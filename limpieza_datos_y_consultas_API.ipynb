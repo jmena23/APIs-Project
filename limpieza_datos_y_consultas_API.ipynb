{
 "cells": [
  {
   "cell_type": "markdown",
   "metadata": {},
   "source": [
    "## Importamos funciones"
   ]
  },
  {
   "cell_type": "code",
   "execution_count": null,
   "metadata": {},
   "outputs": [],
   "source": [
    "import requests\n",
    "import pandas as pd\n",
    "import json"
   ]
  },
  {
   "cell_type": "markdown",
   "metadata": {},
   "source": [
    "## Realizamos consulta a la API de rapidapi para obtener estadísticas\n",
    "\n",
    "- Obtenemos estadísticas para enriquecer nuestro dataframe, en este caso, tapones y asistencia de la temporada 2019-2020 de todo los jugadores de la NBA"
   ]
  },
  {
   "cell_type": "code",
   "execution_count": 3,
   "metadata": {},
   "outputs": [
    {
     "name": "stdout",
     "output_type": "stream",
     "text": [
      "{\"data\":[{\"id\":1448930,\"ast\":8,\"blk\":1,\"dreb\":8,\"fg3_pct\":20.0,\"fg3a\":5,\"fg3m\":1,\"fg_pct\":36.8,\"fga\":19,\"fgm\":7,\"ft_pct\":75.0,\"fta\":4,\"ftm\":3,\"game\":{\"id\":62585,\"date\":\"2019-10-22T00:00:00.000Z\",\"home_team_id\":13,\"home_team_score\":112,\"period\":4,\"postseason\":false,\"season\":2019,\"status\":\"Final\",\"time\":\"     \",\"visitor_team_id\":14,\"visitor_team_score\":102},\"min\":\"36:00\",\"oreb\":1,\"pf\":3,\"player\":{\"id\":237,\"first_name\":\"LeBron\",\"height_feet\":6,\"height_inches\":8,\"last_name\":\"James\",\"position\":\"F\",\"team_id\":14,\"weight_pounds\":250},\"pts\":18,\"reb\":9,\"stl\":1,\"team\":{\"id\":14,\"abbreviation\":\"LAL\",\"city\":\"Los Angeles\",\"conference\":\"West\",\"division\":\"Pacific\",\"full_name\":\"Los Angeles Lakers\",\"name\":\"Lakers\"},\"turnover\":5},{\"id\":1448935,\"ast\":1,\"blk\":1,\"dreb\":3,\"fg3_pct\":0.0,\"fg3a\":0,\"fg3m\":0,\"fg_pct\":33.3,\"fga\":3,\"fgm\":1,\"ft_pct\":100.0,\"fta\":1,\"ftm\":1,\"game\":{\"id\":62585,\"date\":\"2019-10-22T00:00:00.000Z\",\"home_team_id\":13,\"home_team_score\":112,\"period\":4,\"postseason\":false,\"season\":2019,\"status\":\"Final\",\"time\":\"     \",\"visitor_team_id\":14,\"visitor_team_score\":102},\"min\":\"19:02\",\"oreb\":3,\"pf\":4,\"player\":{\"id\":220,\"first_name\":\"Dwight\",\"height_feet\":6,\"height_inches\":11,\"last_name\":\"Howard\",\"position\":\"C\",\"team_id\":14,\"weight_pounds\":265},\"pts\":3,\"reb\":6,\"stl\":0,\"team\":{\"id\":14,\"abbreviation\":\"LAL\",\"city\":\"Los Angeles\",\"conference\":\"West\",\"division\":\"Pacific\",\"full_name\":\"Los Angeles Lakers\",\"name\":\"Lakers\"},\"turnover\":0},{\"id\":1448948,\"ast\":7,\"blk\":0,\"dreb\":4,\"fg3_pct\":25.0,\"fg3a\":4,\"fg3m\":1,\"fg_pct\":57.1,\"fga\":14,\"fgm\":8,\"ft_pct\":100.0,\"fta\":4,\"ftm\":4,\"game\":{\"id\":62585,\"date\":\"2019-10-22T00:00:00.000Z\",\"home_team_id\":13,\"home_team_score\":112,\"period\":4,\"postseason\":false,\"season\":2019,\"status\":\"Final\",\"time\":\"     \",\"visitor_team_id\":14,\"visitor_team_score\":102},\"min\":\"36:43\",\"oreb\":1,\"pf\":0,\"player\":{\"id\":481,\"first_name\":\"Lou\",\"height_feet\":6,\"height_inches\":1,\"last_name\":\"Williams\",\"position\":\"G\",\"team_id\":13,\"weight_pounds\":175},\"pts\":21,\"reb\":5,\"stl\":1,\"team\":{\"id\":13,\"abbreviation\":\"LAC\",\"city\":\"LA\",\"conference\":\"West\",\"division\":\"Pacific\",\"full_name\":\"LA Clippers\",\"name\":\"Clippers\"},\"turnover\":2},{\"id\":1448940,\"ast\":0,\"blk\":0,\"dreb\":0,\"fg3_pct\":100.0,\"fg3a\":2,\"fg3m\":2,\"fg_pct\":100.0,\"fga\":2,\"fgm\":2,\"ft_pct\":0.0,\"fta\":0,\"ftm\":0,\"game\":{\"id\":62585,\"date\":\"2019-10-22T00:00:00.000Z\",\"home_team_id\":13,\"home_team_score\":112,\"period\":4,\"postseason\":false,\"season\":2019,\"status\":\"Final\",\"time\":\"     \",\"visitor_team_id\":14,\"visitor_team_score\":102},\"min\":\"13:21\",\"oreb\":0,\"pf\":2,\"player\":{\"id\":138,\"first_name\":\"Jared\",\"height_feet\":6,\"height_inches\":7,\"last_name\":\"Dudley\",\"position\":\"F\",\"team_id\":14,\"weight_pounds\":237},\"pts\":6,\"reb\":0,\"stl\":0,\"team\":{\"id\":14,\"abbreviation\":\"LAL\",\"city\":\"Los Angeles\",\"conference\":\"West\",\"division\":\"Pacific\",\"full_name\":\"Los Angeles Lakers\",\"name\":\"Lakers\"},\"turnover\":0},{\"id\":1448931,\"ast\":0,\"blk\":2,\"dreb\":1,\"fg3_pct\":0.0,\"fg3a\":0,\"fg3m\":0,\"fg_pct\":66.7,\"fga\":3,\"fgm\":2,\"ft_pct\":0.0,\"fta\":0,\"ftm\":0,\"game\":{\"id\":62585,\"date\":\"2019-10-22T00:00:00.000Z\",\"home_team_id\":13,\"home_team_score\":112,\"period\":4,\"postseason\":false,\"season\":2019,\"status\":\"Final\",\"time\":\"     \",\"visitor_team_id\":14,\"visitor_team_score\":102},\"min\":\"17:20\",\"oreb\":1,\"pf\":0,\"player\":{\"id\":306,\"first_name\":\"JaVale\",\"height_feet\":7,\"height_inches\":0,\"last_name\":\"McGee\",\"position\":\"C\",\"team_id\":14,\"weight_pounds\":270},\"pts\":4,\"reb\":2,\"stl\":0,\"team\":{\"id\":14,\"abbreviation\":\"LAL\",\"city\":\"Los Angeles\",\"conference\":\"West\",\"division\":\"Pacific\",\"full_name\":\"Los Angeles Lakers\",\"name\":\"Lakers\"},\"turnover\":1},{\"id\":1448946,\"ast\":6,\"blk\":1,\"dreb\":8,\"fg3_pct\":0.0,\"fg3a\":5,\"fg3m\":0,\"fg_pct\":14.3,\"fga\":7,\"fgm\":1,\"ft_pct\":0.0,\"fta\":0,\"ftm\":0,\"game\":{\"id\":62585,\"date\":\"2019-10-22T00:00:00.000Z\",\"home_team_id\":13,\"home_team_score\":112,\"period\":4,\"postseason\":false,\"season\":2019,\"status\":\"Final\",\"time\":\"     \",\"visitor_team_id\":14,\"visitor_team_score\":102},\"min\":\"31:21\",\"oreb\":2,\"pf\":4,\"player\":{\"id\":45,\"first_name\":\"Patrick\",\"height_feet\":6,\"height_inches\":1,\"last_name\":\"Beverley\",\"position\":\"G\",\"team_id\":13,\"weight_pounds\":185},\"pts\":2,\"reb\":10,\"stl\":0,\"team\":{\"id\":13,\"abbreviation\":\"LAC\",\"city\":\"LA\",\"conference\":\"West\",\"division\":\"Pacific\",\"full_name\":\"LA Clippers\",\"name\":\"Clippers\"},\"turnover\":2},{\"id\":1448932,\"ast\":0,\"blk\":1,\"dreb\":6,\"fg3_pct\":77.8,\"fg3a\":9,\"fg3m\":7,\"fg_pct\":71.4,\"fga\":14,\"fgm\":10,\"ft_pct\":100.0,\"fta\":1,\"ftm\":1,\"game\":{\"id\":62585,\"date\":\"2019-10-22T00:00:00.000Z\",\"home_team_id\":13,\"home_team_score\":112,\"period\":4,\"postseason\":false,\"season\":2019,\"status\":\"Final\",\"time\":\"     \",\"visitor_team_id\":14,\"visitor_team_score\":102},\"min\":\"32:19\",\"oreb\":1,\"pf\":3,\"player\":{\"id\":184,\"first_name\":\"Danny\",\"height_feet\":6,\"height_inches\":6,\"last_name\":\"Green\",\"position\":\"G-F\",\"team_id\":14,\"weight_pounds\":215},\"pts\":28,\"reb\":7,\"stl\":2,\"team\":{\"id\":14,\"abbreviation\":\"LAL\",\"city\":\"Los Angeles\",\"conference\":\"West\",\"division\":\"Pacific\",\"full_name\":\"Los Angeles Lakers\",\"name\":\"Lakers\"},\"turnover\":0},{\"id\":1448943,\"ast\":0,\"blk\":0,\"dreb\":2,\"fg3_pct\":33.3,\"fg3a\":3,\"fg3m\":1,\"fg_pct\":33.3,\"fga\":3,\"fgm\":1,\"ft_pct\":50.0,\"fta\":2,\"ftm\":1,\"game\":{\"id\":62585,\"date\":\"2019-10-22T00:00:00.000Z\",\"home_team_id\":13,\"home_team_score\":112,\"period\":4,\"postseason\":false,\"season\":2019,\"status\":\"Final\",\"time\":\"     \",\"visitor_team_id\":14,\"visitor_team_score\":102},\"min\":\"17:29\",\"oreb\":1,\"pf\":2,\"player\":{\"id\":365,\"first_name\":\"Patrick\",\"height_feet\":6,\"height_inches\":9,\"last_name\":\"Patterson\",\"position\":\"F\",\"team_id\":13,\"weight_pounds\":230},\"pts\":4,\"reb\":3,\"stl\":0,\"team\":{\"id\":13,\"abbreviation\":\"LAC\",\"city\":\"LA\",\"conference\":\"West\",\"division\":\"Pacific\",\"full_name\":\"LA Clippers\",\"name\":\"Clippers\"},\"turnover\":0},{\"id\":1448933,\"ast\":0,\"blk\":0,\"dreb\":3,\"fg3_pct\":40.0,\"fg3a\":5,\"fg3m\":2,\"fg_pct\":42.9,\"fga\":7,\"fgm\":3,\"ft_pct\":0.0,\"fta\":0,\"ftm\":0,\"game\":{\"id\":62585,\"date\":\"2019-10-22T00:00:00.000Z\",\"home_team_id\":13,\"home_team_score\":112,\"period\":4,\"postseason\":false,\"season\":2019,\"status\":\"Final\",\"time\":\"     \",\"visitor_team_id\":14,\"visitor_team_score\":102},\"min\":\"24:02\",\"oreb\":0,\"pf\":3,\"player\":{\"id\":59,\"first_name\":\"Avery\",\"height_feet\":6,\"height_inches\":2,\"last_name\":\"Bradley\",\"position\":\"G\",\"team_id\":14,\"weight_pounds\":180},\"pts\":8,\"reb\":3,\"stl\":0,\"team\":{\"id\":14,\"abbreviation\":\"LAL\",\"city\":\"Los Angeles\",\"conference\":\"West\",\"division\":\"Pacific\",\"full_name\":\"Los Angeles Lakers\",\"name\":\"Lakers\"},\"turnover\":2},{\"id\":1448942,\"ast\":5,\"blk\":1,\"dreb\":5,\"fg3_pct\":20.0,\"fg3a\":5,\"fg3m\":1,\"fg_pct\":52.6,\"fga\":19,\"fgm\":10,\"ft_pct\":90.0,\"fta\":10,\"ftm\":9,\"game\":{\"id\":62585,\"date\":\"2019-10-22T00:00:00.000Z\",\"home_team_id\":13,\"home_team_score\":112,\"period\":4,\"postseason\":false,\"season\":2019,\"status\":\"Final\",\"time\":\"     \",\"visitor_team_id\":14,\"visitor_team_score\":102},\"min\":\"31:33\",\"oreb\":1,\"pf\":5,\"player\":{\"id\":274,\"first_name\":\"Kawhi\",\"height_feet\":6,\"height_inches\":7,\"last_name\":\"Leonard\",\"position\":\"F\",\"team_id\":13,\"weight_pounds\":230},\"pts\":30,\"reb\":6,\"stl\":2,\"team\":{\"id\":13,\"abbreviation\":\"LAC\",\"city\":\"LA\",\"conference\":\"West\",\"division\":\"Pacific\",\"full_name\":\"LA Clippers\",\"name\":\"Clippers\"},\"turnover\":6},{\"id\":1448929,\"ast\":5,\"blk\":2,\"dreb\":7,\"fg3_pct\":0.0,\"fg3a\":2,\"fg3m\":0,\"fg_pct\":38.1,\"fga\":21,\"fgm\":8,\"ft_pct\":64.3,\"fta\":14,\"ftm\":9,\"game\":{\"id\":62585,\"date\":\"2019-10-22T00:00:00.000Z\",\"home_team_id\":13,\"home_team_score\":112,\"period\":4,\"postseason\":false,\"season\":2019,\"status\":\"Final\",\"time\":\"     \",\"visitor_team_id\":14,\"visitor_team_score\":102},\"min\":\"37:21\",\"oreb\":3,\"pf\":3,\"player\":{\"id\":117,\"first_name\":\"Anthony\",\"height_feet\":6,\"height_inches\":10,\"last_name\":\"Davis\",\"position\":\"F-C\",\"team_id\":14,\"weight_pounds\":253},\"pts\":25,\"reb\":10,\"stl\":1,\"team\":{\"id\":14,\"abbreviation\":\"LAL\",\"city\":\"Los Angeles\",\"conference\":\"West\",\"division\":\"Pacific\",\"full_name\":\"Los Angeles Lakers\",\"name\":\"Lakers\"},\"turnover\":3},{\"id\":1448950,\"ast\":0,\"blk\":2,\"dreb\":2,\"fg3_pct\":66.7,\"fg3a\":3,\"fg3m\":2,\"fg_pct\":57.1,\"fga\":7,\"fgm\":4,\"ft_pct\":0.0,\"fta\":0,\"ftm\":0,\"game\":{\"id\":62585,\"date\":\"2019-10-22T00:00:00.000Z\",\"home_team_id\":13,\"home_team_score\":112,\"period\":4,\"postseason\":false,\"season\":2019,\"status\":\"Final\",\"time\":\"     \",\"visitor_team_id\":14,\"visitor_team_score\":102},\"min\":\"29:10\",\"oreb\":2,\"pf\":5,\"player\":{\"id\":193,\"first_name\":\"Maurice\",\"height_feet\":6,\"height_inches\":9,\"last_name\":\"Harkless\",\"position\":\"F\",\"team_id\":20,\"weight_pounds\":220},\"pts\":10,\"reb\":4,\"stl\":4,\"team\":{\"id\":13,\"abbreviation\":\"LAC\",\"city\":\"LA\",\"conference\":\"West\",\"division\":\"Pacific\",\"full_name\":\"LA Clippers\",\"name\":\"Clippers\"},\"turnover\":0},{\"id\":1448949,\"ast\":0,\"blk\":0,\"dreb\":5,\"fg3_pct\":57.1,\"fg3a\":7,\"fg3m\":4,\"fg_pct\":50.0,\"fga\":8,\"fgm\":4,\"ft_pct\":0.0,\"fta\":0,\"ftm\":0,\"game\":{\"id\":62585,\"date\":\"2019-10-22T00:00:00.000Z\",\"home_team_id\":13,\"home_team_score\":112,\"period\":4,\"postseason\":false,\"season\":2019,\"status\":\"Final\",\"time\":\"     \",\"visitor_team_id\":14,\"visitor_team_score\":102},\"min\":\"19:16\",\"oreb\":1,\"pf\":3,\"player\":{\"id\":187,\"first_name\":\"JaMychal\",\"height_feet\":6,\"height_inches\":9,\"last_name\":\"Green\",\"position\":\"F\",\"team_id\":13,\"weight_pounds\":227},\"pts\":12,\"reb\":6,\"stl\":0,\"team\":{\"id\":13,\"abbreviation\":\"LAC\",\"city\":\"LA\",\"conference\":\"West\",\"division\":\"Pacific\",\"full_name\":\"LA Clippers\",\"name\":\"Clippers\"},\"turnover\":1},{\"id\":1448934,\"ast\":3,\"blk\":0,\"dreb\":3,\"fg3_pct\":0.0,\"fg3a\":2,\"fg3m\":0,\"fg_pct\":0.0,\"fga\":3,\"fgm\":0,\"ft_pct\":0.0,\"fta\":0,\"ftm\":0,\"game\":{\"id\":62585,\"date\":\"2019-10-22T00:00:00.000Z\",\"home_team_id\":13,\"home_team_score\":112,\"period\":4,\"postseason\":false,\"season\":2019,\"status\":\"Final\",\"time\":\"     \",\"visitor_team_id\":14,\"visitor_team_score\":102},\"min\":\"27:23\",\"oreb\":0,\"pf\":5,\"player\":{\"id\":81,\"first_name\":\"Kentavious\",\"height_feet\":6,\"height_inches\":5,\"last_name\":\"Caldwell-Pope\",\"position\":\"G\",\"team_id\":14,\"weight_pounds\":205},\"pts\":0,\"reb\":3,\"stl\":0,\"team\":{\"id\":14,\"abbreviation\":\"LAL\",\"city\":\"Los Angeles\",\"conference\":\"West\",\"division\":\"Pacific\",\"full_name\":\"Los Angeles Lakers\",\"name\":\"Lakers\"},\"turnover\":1},{\"id\":1448939,\"ast\":1,\"blk\":0,\"dreb\":0,\"fg3_pct\":20.0,\"fg3a\":5,\"fg3m\":1,\"fg_pct\":33.3,\"fga\":6,\"fgm\":2,\"ft_pct\":100.0,\"fta\":1,\"ftm\":1,\"game\":{\"id\":62585,\"date\":\"2019-10-22T00:00:00.000Z\",\"home_team_id\":13,\"home_team_score\":112,\"period\":4,\"postseason\":false,\"season\":2019,\"status\":\"Final\",\"time\":\"     \",\"visitor_team_id\":14,\"visitor_team_score\":102},\"min\":\"16:14\",\"oreb\":0,\"pf\":1,\"player\":{\"id\":116,\"first_name\":\"Troy\",\"height_feet\":6,\"height_inches\":4,\"last_name\":\"Daniels\",\"position\":\"G\",\"team_id\":8,\"weight_pounds\":205},\"pts\":6,\"reb\":0,\"stl\":0,\"team\":{\"id\":14,\"abbreviation\":\"LAL\",\"city\":\"Los Angeles\",\"conference\":\"West\",\"division\":\"Pacific\",\"full_name\":\"Los Angeles Lakers\",\"name\":\"Lakers\"},\"turnover\":1},{\"id\":1448947,\"ast\":4,\"blk\":1,\"dreb\":5,\"fg3_pct\":0.0,\"fg3a\":0,\"fg3m\":0,\"fg_pct\":63.6,\"fga\":11,\"fgm\":7,\"ft_pct\":37.5,\"fta\":8,\"ftm\":3,\"game\":{\"id\":62585,\"date\":\"2019-10-22T00:00:00.000Z\",\"home_team_id\":13,\"home_team_score\":112,\"period\":4,\"postseason\":false,\"season\":2019,\"status\":\"Final\",\"time\":\"     \",\"visitor_team_id\":14,\"visitor_team_score\":102},\"min\":\"38:21\",\"oreb\":2,\"pf\":3,\"player\":{\"id\":194,\"first_name\":\"Montrezl\",\"height_feet\":6,\"height_inches\":8,\"last_name\":\"Harrell\",\"position\":\"F-C\",\"team_id\":13,\"weight_pounds\":240},\"pts\":17,\"reb\":7,\"stl\":1,\"team\":{\"id\":13,\"abbreviation\":\"LAC\",\"city\":\"LA\",\"conference\":\"West\",\"division\":\"Pacific\",\"full_name\":\"LA Clippers\",\"name\":\"Clippers\"},\"turnover\":3},{\"id\":1448938,\"ast\":2,\"blk\":0,\"dreb\":1,\"fg3_pct\":0.0,\"fg3a\":3,\"fg3m\":0,\"fg_pct\":28.6,\"fga\":7,\"fgm\":2,\"ft_pct\":0.0,\"fta\":0,\"ftm\":0,\"game\":{\"id\":62585,\"date\":\"2019-10-22T00:00:00.000Z\",\"home_team_id\":13,\"home_team_score\":112,\"period\":4,\"postseason\":false,\"season\":2019,\"status\":\"Final\",\"time\":\"     \",\"visitor_team_id\":14,\"visitor_team_score\":102},\"min\":\"16:56\",\"oreb\":0,\"pf\":0,\"player\":{\"id\":106,\"first_name\":\"Quinn\",\"height_feet\":6,\"height_inches\":2,\"last_name\":\"Cook\",\"position\":\"G\",\"team_id\":14,\"weight_pounds\":179},\"pts\":4,\"reb\":1,\"stl\":0,\"team\":{\"id\":14,\"abbreviation\":\"LAL\",\"city\":\"Los Angeles\",\"conference\":\"West\",\"division\":\"Pacific\",\"full_name\":\"Los Angeles Lakers\",\"name\":\"Lakers\"},\"turnover\":1},{\"id\":1448944,\"ast\":0,\"blk\":0,\"dreb\":0,\"fg3_pct\":0.0,\"fg3a\":0,\"fg3m\":0,\"fg_pct\":100.0,\"fga\":4,\"fgm\":4,\"ft_pct\":0.0,\"fta\":0,\"ftm\":0,\"game\":{\"id\":62585,\"date\":\"2019-10-22T00:00:00.000Z\",\"home_team_id\":13,\"home_team_score\":112,\"period\":4,\"postseason\":false,\"season\":2019,\"status\":\"Final\",\"time\":\"     \",\"visitor_team_id\":14,\"visitor_team_score\":102},\"min\":\"9:38\",\"oreb\":1,\"pf\":2,\"player\":{\"id\":493,\"first_name\":\"Ivica\",\"height_feet\":7,\"height_inches\":1,\"last_name\":\"Zubac\",\"position\":\"C\",\"team_id\":13,\"weight_pounds\":240},\"pts\":8,\"reb\":1,\"stl\":0,\"team\":{\"id\":13,\"abbreviation\":\"LAC\",\"city\":\"LA\",\"conference\":\"West\",\"division\":\"Pacific\",\"full_name\":\"LA Clippers\",\"name\":\"Clippers\"},\"turnover\":0},{\"id\":1448937,\"ast\":0,\"blk\":0,\"dreb\":0,\"fg3_pct\":0.0,\"fg3a\":0,\"fg3m\":0,\"fg_pct\":0.0,\"fga\":0,\"fgm\":0,\"ft_pct\":0.0,\"fta\":0,\"ftm\":0,\"game\":{\"id\":62585,\"date\":\"2019-10-22T00:00:00.000Z\",\"home_team_id\":13,\"home_team_score\":112,\"period\":4,\"postseason\":false,\"season\":2019,\"status\":\"Final\",\"time\":\"     \",\"visitor_team_id\":14,\"visitor_team_score\":102},\"min\":\"\",\"oreb\":0,\"pf\":0,\"player\":{\"id\":89,\"first_name\":\"Alex\",\"height_feet\":6,\"height_inches\":5,\"last_name\":\"Caruso\",\"position\":\"G\",\"team_id\":14,\"weight_pounds\":186},\"pts\":0,\"reb\":0,\"stl\":0,\"team\":{\"id\":14,\"abbreviation\":\"LAL\",\"city\":\"Los Angeles\",\"conference\":\"West\",\"division\":\"Pacific\",\"full_name\":\"Los Angeles Lakers\",\"name\":\"Lakers\"},\"turnover\":0},{\"id\":1448953,\"ast\":0,\"blk\":0,\"dreb\":0,\"fg3_pct\":0.0,\"fg3a\":0,\"fg3m\":0,\"fg_pct\":0.0,\"fga\":0,\"fgm\":0,\"ft_pct\":0.0,\"fta\":0,\"ftm\":0,\"game\":{\"id\":62585,\"date\":\"2019-10-22T00:00:00.000Z\",\"home_team_id\":13,\"home_team_score\":112,\"period\":4,\"postseason\":false,\"season\":2019,\"status\":\"Final\",\"time\":\"     \",\"visitor_team_id\":14,\"visitor_team_score\":102},\"min\":\"0:00\",\"oreb\":0,\"pf\":0,\"player\":{\"id\":331,\"first_name\":\"Johnathan\",\"height_feet\":6,\"height_inches\":10,\"last_name\":\"Motley\",\"position\":\"F\",\"team_id\":13,\"weight_pounds\":230},\"pts\":0,\"reb\":0,\"stl\":0,\"team\":{\"id\":13,\"abbreviation\":\"LAC\",\"city\":\"LA\",\"conference\":\"West\",\"division\":\"Pacific\",\"full_name\":\"LA Clippers\",\"name\":\"Clippers\"},\"turnover\":0},{\"id\":1448936,\"ast\":0,\"blk\":0,\"dreb\":0,\"fg3_pct\":0.0,\"fg3a\":0,\"fg3m\":0,\"fg_pct\":0.0,\"fga\":0,\"fgm\":0,\"ft_pct\":0.0,\"fta\":0,\"ftm\":0,\"game\":{\"id\":62585,\"date\":\"2019-10-22T00:00:00.000Z\",\"home_team_id\":13,\"home_team_score\":112,\"period\":4,\"postseason\":false,\"season\":2019,\"status\":\"Final\",\"time\":\"     \",\"visitor_team_id\":14,\"visitor_team_score\":102},\"min\":\"0:00\",\"oreb\":0,\"pf\":0,\"player\":{\"id\":16,\"first_name\":\"Kostas\",\"height_feet\":6,\"height_inches\":10,\"last_name\":\"Antetokounmpo\",\"position\":\"F\",\"team_id\":14,\"weight_pounds\":200},\"pts\":0,\"reb\":0,\"stl\":0,\"team\":{\"id\":14,\"abbreviation\":\"LAL\",\"city\":\"Los Angeles\",\"conference\":\"West\",\"division\":\"Pacific\",\"full_name\":\"Los Angeles Lakers\",\"name\":\"Lakers\"},\"turnover\":0},{\"id\":1448954,\"ast\":0,\"blk\":0,\"dreb\":0,\"fg3_pct\":0.0,\"fg3a\":0,\"fg3m\":0,\"fg_pct\":0.0,\"fga\":0,\"fgm\":0,\"ft_pct\":0.0,\"fta\":0,\"ftm\":0,\"game\":{\"id\":62585,\"date\":\"2019-10-22T00:00:00.000Z\",\"home_team_id\":13,\"home_team_score\":112,\"period\":4,\"postseason\":false,\"season\":2019,\"status\":\"Final\",\"time\":\"     \",\"visitor_team_id\":14,\"visitor_team_score\":102},\"min\":\"0:00\",\"oreb\":0,\"pf\":0,\"player\":{\"id\":398,\"first_name\":\"Jerome\",\"height_feet\":6,\"height_inches\":5,\"last_name\":\"Robinson\",\"position\":\"G\",\"team_id\":30,\"weight_pounds\":190},\"pts\":0,\"reb\":0,\"stl\":0,\"team\":{\"id\":13,\"abbreviation\":\"LAC\",\"city\":\"LA\",\"conference\":\"West\",\"division\":\"Pacific\",\"full_name\":\"LA Clippers\",\"name\":\"Clippers\"},\"turnover\":0},{\"id\":1448945,\"ast\":2,\"blk\":0,\"dreb\":3,\"fg3_pct\":50.0,\"fg3a\":4,\"fg3m\":2,\"fg_pct\":37.5,\"fga\":8,\"fgm\":3,\"ft_pct\":0.0,\"fta\":0,\"ftm\":0,\"game\":{\"id\":62585,\"date\":\"2019-10-22T00:00:00.000Z\",\"home_team_id\":13,\"home_team_score\":112,\"period\":4,\"postseason\":false,\"season\":2019,\"status\":\"Final\",\"time\":\"     \",\"visitor_team_id\":14,\"visitor_team_score\":102},\"min\":\"26:26\",\"oreb\":0,\"pf\":1,\"player\":{\"id\":414,\"first_name\":\"Landry\",\"height_feet\":6,\"height_inches\":5,\"last_name\":\"Shamet\",\"position\":\"G\",\"team_id\":13,\"weight_pounds\":188},\"pts\":8,\"reb\":3,\"stl\":0,\"team\":{\"id\":13,\"abbreviation\":\"LAC\",\"city\":\"LA\",\"conference\":\"West\",\"division\":\"Pacific\",\"full_name\":\"LA Clippers\",\"name\":\"Clippers\"},\"turnover\":0},{\"id\":1448952,\"ast\":0,\"blk\":0,\"dreb\":0,\"fg3_pct\":0.0,\"fg3a\":0,\"fg3m\":0,\"fg_pct\":0.0,\"fga\":0,\"fgm\":0,\"ft_pct\":0.0,\"fta\":0,\"ftm\":0,\"game\":{\"id\":62585,\"date\":\"2019-10-22T00:00:00.000Z\",\"home_team_id\":13,\"home_team_score\":112,\"period\":4,\"postseason\":false,\"season\":2019,\"status\":\"Final\",\"time\":\"     \",\"visitor_team_id\":14,\"visitor_team_score\":102},\"min\":\"0:00\",\"oreb\":0,\"pf\":0,\"player\":{\"id\":666743,\"first_name\":\"Terance\",\"height_feet\":null,\"height_inches\":null,\"last_name\":\"Mann\",\"position\":\"G\",\"team_id\":13,\"weight_pounds\":null},\"pts\":0,\"reb\":0,\"stl\":0,\"team\":{\"id\":13,\"abbreviation\":\"LAC\",\"city\":\"LA\",\"conference\":\"West\",\"division\":\"Pacific\",\"full_name\":\"LA Clippers\",\"name\":\"Clippers\"},\"turnover\":0},{\"id\":1448951,\"ast\":0,\"blk\":0,\"dreb\":0,\"fg3_pct\":0.0,\"fg3a\":0,\"fg3m\":0,\"fg_pct\":0.0,\"fga\":0,\"fgm\":0,\"ft_pct\":0.0,\"fta\":0,\"ftm\":0,\"game\":{\"id\":62585,\"date\":\"2019-10-22T00:00:00.000Z\",\"home_team_id\":13,\"home_team_score\":112,\"period\":4,\"postseason\":false,\"season\":2019,\"status\":\"Final\",\"time\":\"     \",\"visitor_team_id\":14,\"visitor_team_score\":102},\"min\":\"0:00\",\"oreb\":0,\"pf\":0,\"player\":{\"id\":666692,\"first_name\":\"Mfiondu\",\"height_feet\":null,\"height_inches\":null,\"last_name\":\"Kabengele\",\"position\":\"F\",\"team_id\":13,\"weight_pounds\":null},\"pts\":0,\"reb\":0,\"stl\":0,\"team\":{\"id\":13,\"abbreviation\":\"LAC\",\"city\":\"LA\",\"conference\":\"West\",\"division\":\"Pacific\",\"full_name\":\"LA Clippers\",\"name\":\"Clippers\"},\"turnover\":0},{\"id\":1448941,\"ast\":0,\"blk\":0,\"dreb\":0,\"fg3_pct\":0.0,\"fg3a\":0,\"fg3m\":0,\"fg_pct\":0.0,\"fga\":0,\"fgm\":0,\"ft_pct\":0.0,\"fta\":0,\"ftm\":0,\"game\":{\"id\":62585,\"date\":\"2019-10-22T00:00:00.000Z\",\"home_team_id\":13,\"home_team_score\":112,\"period\":4,\"postseason\":false,\"season\":2019,\"status\":\"Final\",\"time\":\"     \",\"visitor_team_id\":14,\"visitor_team_score\":102},\"min\":\"0:00\",\"oreb\":0,\"pf\":0,\"player\":{\"id\":666808,\"first_name\":\"Zach\",\"height_feet\":null,\"height_inches\":null,\"last_name\":\"Norvell Jr.\",\"position\":\"G\",\"team_id\":10,\"weight_pounds\":null},\"pts\":0,\"reb\":0,\"stl\":0,\"team\":{\"id\":14,\"abbreviation\":\"LAL\",\"city\":\"Los Angeles\",\"conference\":\"West\",\"division\":\"Pacific\",\"full_name\":\"Los Angeles Lakers\",\"name\":\"Lakers\"},\"turnover\":0},{\"id\":1453319,\"ast\":2,\"blk\":2,\"dreb\":5,\"fg3_pct\":75.0,\"fg3a\":4,\"fg3m\":3,\"fg_pct\":37.5,\"fga\":8,\"fgm\":3,\"ft_pct\":100.0,\"fta\":2,\"ftm\":2,\"game\":{\"id\":62594,\"date\":\"2019-10-23T00:00:00.000Z\",\"home_team_id\":25,\"home_team_score\":100,\"period\":4,\"postseason\":false,\"season\":2019,\"status\":\"Final\",\"time\":\"     \",\"visitor_team_id\":8,\"visitor_team_score\":108},\"min\":\"31:46\",\"oreb\":0,\"pf\":3,\"player\":{\"id\":318,\"first_name\":\"Paul\",\"height_feet\":6,\"height_inches\":8,\"last_name\":\"Millsap\",\"position\":\"F\",\"team_id\":8,\"weight_pounds\":246},\"pts\":11,\"reb\":5,\"stl\":3,\"team\":{\"id\":8,\"abbreviation\":\"DEN\",\"city\":\"Denver\",\"conference\":\"West\",\"division\":\"Northwest\",\"full_name\":\"Denver Nuggets\",\"name\":\"Nuggets\"},\"turnover\":2},{\"id\":1453336,\"ast\":0,\"blk\":0,\"dreb\":0,\"fg3_pct\":0.0,\"fg3a\":1,\"fg3m\":0,\"fg_pct\":0.0,\"fga\":1,\"fgm\":0,\"ft_pct\":0.0,\"fta\":0,\"ftm\":0,\"game\":{\"id\":62594,\"date\":\"2019-10-23T00:00:00.000Z\",\"home_team_id\":25,\"home_team_score\":100,\"period\":4,\"postseason\":false,\"season\":2019,\"status\":\"Final\",\"time\":\"     \",\"visitor_team_id\":8,\"visitor_team_score\":108},\"min\":\"13:06\",\"oreb\":0,\"pf\":1,\"player\":{\"id\":446,\"first_name\":\"Anthony\",\"height_feet\":6,\"height_inches\":8,\"last_name\":\"Tolliver\",\"position\":\"F\",\"team_id\":15,\"weight_pounds\":250},\"pts\":0,\"reb\":0,\"stl\":0,\"team\":{\"id\":25,\"abbreviation\":\"POR\",\"city\":\"Portland\",\"conference\":\"West\",\"division\":\"Northwest\",\"full_name\":\"Portland Trail Blazers\",\"name\":\"Trail Blazers\"},\"turnover\":1},{\"id\":1453332,\"ast\":0,\"blk\":2,\"dreb\":14,\"fg3_pct\":0.0,\"fg3a\":0,\"fg3m\":0,\"fg_pct\":85.7,\"fga\":7,\"fgm\":6,\"ft_pct\":100.0,\"fta\":4,\"ftm\":4,\"game\":{\"id\":62594,\"date\":\"2019-10-23T00:00:00.000Z\",\"home_team_id\":25,\"home_team_score\":100,\"period\":4,\"postseason\":false,\"season\":2019,\"status\":\"Final\",\"time\":\"     \",\"visitor_team_id\":8,\"visitor_team_score\":108},\"min\":\"26:02\",\"oreb\":5,\"pf\":4,\"player\":{\"id\":474,\"first_name\":\"Hassan\",\"height_feet\":7,\"height_inches\":0,\"last_name\":\"Whiteside\",\"position\":\"C\",\"team_id\":25,\"weight_pounds\":265},\"pts\":16,\"reb\":19,\"stl\":0,\"team\":{\"id\":25,\"abbreviation\":\"POR\",\"city\":\"Portland\",\"conference\":\"West\",\"division\":\"Northwest\",\"full_name\":\"Portland Trail Blazers\",\"name\":\"Trail Blazers\"},\"turnover\":4},{\"id\":1453334,\"ast\":8,\"blk\":0,\"dreb\":3,\"fg3_pct\":30.0,\"fg3a\":10,\"fg3m\":3,\"fg_pct\":47.6,\"fga\":21,\"fgm\":10,\"ft_pct\":90.0,\"fta\":10,\"ftm\":9,\"game\":{\"id\":62594,\"date\":\"2019-10-23T00:00:00.000Z\",\"home_team_id\":25,\"home_team_score\":100,\"period\":4,\"postseason\":false,\"season\":2019,\"status\":\"Final\",\"time\":\"     \",\"visitor_team_id\":8,\"visitor_team_score\":108},\"min\":\"37:49\",\"oreb\":1,\"pf\":3,\"player\":{\"id\":278,\"first_name\":\"Damian\",\"height_feet\":6,\"height_inches\":3,\"last_name\":\"Lillard\",\"position\":\"G\",\"team_id\":25,\"weight_pounds\":195},\"pts\":32,\"reb\":4,\"stl\":1,\"team\":{\"id\":25,\"abbreviation\":\"POR\",\"city\":\"Portland\",\"conference\":\"West\",\"division\":\"Northwest\",\"full_name\":\"Portland Trail Blazers\",\"name\":\"Trail Blazers\"},\"turnover\":3},{\"id\":1453318,\"ast\":2,\"blk\":1,\"dreb\":4,\"fg3_pct\":66.7,\"fg3a\":3,\"fg3m\":2,\"fg_pct\":37.5,\"fga\":8,\"fgm\":3,\"ft_pct\":91.7,\"fta\":12,\"ftm\":11,\"game\":{\"id\":62594,\"date\":\"2019-10-23T00:00:00.000Z\",\"home_team_id\":25,\"home_team_score\":100,\"period\":4,\"postseason\":false,\"season\":2019,\"status\":\"Final\",\"time\":\"     \",\"visitor_team_id\":8,\"visitor_team_score\":108},\"min\":\"31:26\",\"oreb\":1,\"pf\":1,\"player\":{\"id\":31,\"first_name\":\"Will\",\"height_feet\":6,\"height_inches\":6,\"last_name\":\"Barton\",\"position\":\"G\",\"team_id\":8,\"weight_pounds\":190},\"pts\":19,\"reb\":5,\"stl\":2,\"team\":{\"id\":8,\"abbreviation\":\"DEN\",\"city\":\"Denver\",\"conference\":\"West\",\"division\":\"Northwest\",\"full_name\":\"Denver Nuggets\",\"name\":\"Nuggets\"},\"turnover\":1},{\"id\":1453335,\"ast\":0,\"blk\":0,\"dreb\":1,\"fg3_pct\":0.0,\"fg3a\":3,\"fg3m\":0,\"fg_pct\":14.3,\"fga\":7,\"fgm\":1,\"ft_pct\":100.0,\"fta\":2,\"ftm\":2,\"game\":{\"id\":62594,\"date\":\"2019-10-23T00:00:00.000Z\",\"home_team_id\":25,\"home_team_score\":100,\"period\":4,\"postseason\":false,\"season\":2019,\"status\":\"Final\",\"time\":\"     \",\"visitor_team_id\":8,\"visitor_team_score\":108},\"min\":\"24:32\",\"oreb\":1,\"pf\":2,\"player\":{\"id\":36,\"first_name\":\"Kent\",\"height_feet\":6,\"height_inches\":5,\"last_name\":\"Bazemore\",\"position\":\"G\",\"team_id\":26,\"weight_pounds\":201},\"pts\":4,\"reb\":2,\"stl\":5,\"team\":{\"id\":25,\"abbreviation\":\"POR\",\"city\":\"Portland\",\"conference\":\"West\",\"division\":\"Northwest\",\"full_name\":\"Portland Trail Blazers\",\"name\":\"Trail Blazers\"},\"turnover\":0},{\"id\":1453333,\"ast\":3,\"blk\":0,\"dreb\":1,\"fg3_pct\":50.0,\"fg3a\":4,\"fg3m\":2,\"fg_pct\":27.8,\"fga\":18,\"fgm\":5,\"ft_pct\":0.0,\"fta\":0,\"ftm\":0,\"game\":{\"id\":62594,\"date\":\"2019-10-23T00:00:00.000Z\",\"home_team_id\":25,\"home_team_score\":100,\"period\":4,\"postseason\":false,\"season\":2019,\"status\":\"Final\",\"time\":\"     \",\"visitor_team_id\":8,\"visitor_team_score\":108},\"min\":\"35:50\",\"oreb\":2,\"pf\":3,\"player\":{\"id\":303,\"first_name\":\"CJ\",\"height_feet\":6,\"height_inches\":3,\"last_name\":\"McCollum\",\"position\":\"G\",\"team_id\":25,\"weight_pounds\":190},\"pts\":12,\"reb\":3,\"stl\":1,\"team\":{\"id\":25,\"abbreviation\":\"POR\",\"city\":\"Portland\",\"conference\":\"West\",\"division\":\"Northwest\",\"full_name\":\"Portland Trail Blazers\",\"name\":\"Trail Blazers\"},\"turnover\":5},{\"id\":1453323,\"ast\":5,\"blk\":0,\"dreb\":1,\"fg3_pct\":0.0,\"fg3a\":0,\"fg3m\":0,\"fg_pct\":50.0,\"fga\":4,\"fgm\":2,\"ft_pct\":50.0,\"fta\":2,\"ftm\":1,\"game\":{\"id\":62594,\"date\":\"2019-10-23T00:00:00.000Z\",\"home_team_id\":25,\"home_team_score\":100,\"period\":4,\"postseason\":false,\"season\":2019,\"status\":\"Final\",\"time\":\"     \",\"visitor_team_id\":8,\"visitor_team_score\":108},\"min\":\"19:28\",\"oreb\":3,\"pf\":2,\"player\":{\"id\":371,\"first_name\":\"Mason\",\"height_feet\":6,\"height_inches\":11,\"last_name\":\"Plumlee\",\"position\":\"F-C\",\"team_id\":8,\"weight_pounds\":235},\"pts\":5,\"reb\":4,\"stl\":1,\"team\":{\"id\":8,\"abbreviation\":\"DEN\",\"city\":\"Denver\",\"conference\":\"West\",\"division\":\"Northwest\",\"full_name\":\"Denver Nuggets\",\"name\":\"Nuggets\"},\"turnover\":0},{\"id\":1453321,\"ast\":0,\"blk\":0,\"dreb\":3,\"fg3_pct\":20.0,\"fg3a\":5,\"fg3m\":1,\"fg_pct\":27.3,\"fga\":11,\"fgm\":3,\"ft_pct\":100.0,\"fta\":1,\"ftm\":1,\"game\":{\"id\":62594,\"date\":\"2019-10-23T00:00:00.000Z\",\"home_team_id\":25,\"home_team_score\":100,\"period\":4,\"postseason\":false,\"season\":2019,\"status\":\"Final\",\"time\":\"     \",\"visitor_team_id\":8,\"visitor_team_score\":108},\"min\":\"35:14\",\"oreb\":0,\"pf\":5,\"player\":{\"id\":196,\"first_name\":\"Gary\",\"height_feet\":6,\"height_inches\":4,\"last_name\":\"Harris\",\"position\":\"G\",\"team_id\":8,\"weight_pounds\":210},\"pts\":8,\"reb\":3,\"stl\":2,\"team\":{\"id\":8,\"abbreviation\":\"DEN\",\"city\":\"Denver\",\"conference\":\"West\",\"division\":\"Northwest\",\"full_name\":\"Denver Nuggets\",\"name\":\"Nuggets\"},\"turnover\":5},{\"id\":1453330,\"ast\":1,\"blk\":0,\"dreb\":4,\"fg3_pct\":40.0,\"fg3a\":5,\"fg3m\":2,\"fg_pct\":50.0,\"fga\":10,\"fgm\":5,\"ft_pct\":100.0,\"fta\":1,\"ftm\":1,\"game\":{\"id\":62594,\"date\":\"2019-10-23T00:00:00.000Z\",\"home_team_id\":25,\"home_team_score\":100,\"period\":4,\"postseason\":false,\"season\":2019,\"status\":\"Final\",\"time\":\"     \",\"visitor_team_id\":8,\"visitor_team_score\":108},\"min\":\"31:10\",\"oreb\":1,\"pf\":4,\"player\":{\"id\":218,\"first_name\":\"Rodney\",\"height_feet\":6,\"height_inches\":8,\"last_name\":\"Hood\",\"position\":\"G\",\"team_id\":25,\"weight_pounds\":206},\"pts\":13,\"reb\":5,\"stl\":0,\"team\":{\"id\":25,\"abbreviation\":\"POR\",\"city\":\"Portland\",\"conference\":\"West\",\"division\":\"Northwest\",\"full_name\":\"Portland Trail Blazers\",\"name\":\"Trail Blazers\"},\"turnover\":2},{\"id\":1453324,\"ast\":1,\"blk\":0,\"dreb\":1,\"fg3_pct\":100.0,\"fg3a\":2,\"fg3m\":2,\"fg_pct\":75.0,\"fga\":4,\"fgm\":3,\"ft_pct\":50.0,\"fta\":2,\"ftm\":1,\"game\":{\"id\":62594,\"date\":\"2019-10-23T00:00:00.000Z\",\"home_team_id\":25,\"home_team_score\":100,\"period\":4,\"postseason\":false,\"season\":2019,\"status\":\"Final\",\"time\":\"     \",\"visitor_team_id\":8,\"visitor_team_score\":108},\"min\":\"20:49\",\"oreb\":1,\"pf\":1,\"player\":{\"id\":182,\"first_name\":\"Jerami\",\"height_feet\":6,\"height_inches\":9,\"last_name\":\"Grant\",\"position\":\"F\",\"team_id\":8,\"weight_pounds\":220},\"pts\":9,\"reb\":2,\"stl\":0,\"team\":{\"id\":8,\"abbreviation\":\"DEN\",\"city\":\"Denver\",\"conference\":\"West\",\"division\":\"Northwest\",\"full_name\":\"Denver Nuggets\",\"name\":\"Nuggets\"},\"turnover\":1},{\"id\":1453320,\"ast\":2,\"blk\":0,\"dreb\":9,\"fg3_pct\":60.0,\"fg3a\":5,\"fg3m\":3,\"fg_pct\":57.1,\"fga\":14,\"fgm\":8,\"ft_pct\":50.0,\"fta\":2,\"ftm\":1,\"game\":{\"id\":62594,\"date\":\"2019-10-23T00:00:00.000Z\",\"home_team_id\":25,\"home_team_score\":100,\"period\":4,\"postseason\":false,\"season\":2019,\"status\":\"Final\",\"time\":\"     \",\"visitor_team_id\":8,\"visitor_team_score\":108},\"min\":\"23:53\",\"oreb\":4,\"pf\":4,\"player\":{\"id\":246,\"first_name\":\"Nikola\",\"height_feet\":7,\"height_inches\":0,\"last_name\":\"Jokic\",\"position\":\"C\",\"team_id\":8,\"weight_pounds\":250},\"pts\":20,\"reb\":13,\"stl\":0,\"team\":{\"id\":8,\"abbreviation\":\"DEN\",\"city\":\"Denver\",\"conference\":\"West\",\"division\":\"Northwest\",\"full_name\":\"Denver Nuggets\",\"name\":\"Nuggets\"},\"turnover\":4},{\"id\":1453338,\"ast\":0,\"blk\":0,\"dreb\":4,\"fg3_pct\":0.0,\"fg3a\":1,\"fg3m\":0,\"fg_pct\":0.0,\"fga\":3,\"fgm\":0,\"ft_pct\":100.0,\"fta\":2,\"ftm\":2,\"game\":{\"id\":62594,\"date\":\"2019-10-23T00:00:00.000Z\",\"home_team_id\":25,\"home_team_score\":100,\"period\":4,\"postseason\":false,\"season\":2019,\"status\":\"Final\",\"time\":\"     \",\"visitor_team_id\":8,\"visitor_team_score\":108},\"min\":\"18:00\",\"oreb\":0,\"pf\":2,\"player\":{\"id\":208,\"first_name\":\"Mario\",\"height_feet\":6,\"height_inches\":8,\"last_name\":\"Hezonja\",\"position\":\"F\",\"team_id\":25,\"weight_pounds\":225},\"pts\":2,\"reb\":4,\"stl\":0,\"team\":{\"id\":25,\"abbreviation\":\"POR\",\"city\":\"Portland\",\"conference\":\"West\",\"division\":\"Northwest\",\"full_name\":\"Portland Trail Blazers\",\"name\":\"Trail Blazers\"},\"turnover\":0},{\"id\":1453325,\"ast\":1,\"blk\":0,\"dreb\":1,\"fg3_pct\":50.0,\"fg3a\":4,\"fg3m\":2,\"fg_pct\":33.3,\"fga\":6,\"fgm\":2,\"ft_pct\":0.0,\"fta\":0,\"ftm\":0,\"game\":{\"id\":62594,\"date\":\"2019-10-23T00:00:00.000Z\",\"home_team_id\":25,\"home_team_score\":100,\"period\":4,\"postseason\":false,\"season\":2019,\"status\":\"Final\",\"time\":\"     \",\"visitor_team_id\":8,\"visitor_team_score\":108},\"min\":\"13:22\",\"oreb\":0,\"pf\":2,\"player\":{\"id\":38,\"first_name\":\"Malik\",\"height_feet\":6,\"height_inches\":5,\"last_name\":\"Beasley\",\"position\":\"G\",\"team_id\":18,\"weight_pounds\":195},\"pts\":6,\"reb\":1,\"stl\":1,\"team\":{\"id\":8,\"abbreviation\":\"DEN\",\"city\":\"Denver\",\"conference\":\"West\",\"division\":\"Northwest\",\"full_name\":\"Denver Nuggets\",\"name\":\"Nuggets\"},\"turnover\":2},{\"id\":1453337,\"ast\":1,\"blk\":0,\"dreb\":4,\"fg3_pct\":0.0,\"fg3a\":0,\"fg3m\":0,\"fg_pct\":75.0,\"fga\":4,\"fgm\":3,\"ft_pct\":100.0,\"fta\":2,\"ftm\":2,\"game\":{\"id\":62594,\"date\":\"2019-10-23T00:00:00.000Z\",\"home_team_id\":25,\"home_team_score\":100,\"period\":4,\"postseason\":false,\"season\":2019,\"status\":\"Final\",\"time\":\"     \",\"visitor_team_id\":8,\"visitor_team_score\":108},\"min\":\"10:44\",\"oreb\":2,\"pf\":1,\"player\":{\"id\":266,\"first_name\":\"Skal\",\"height_feet\":6,\"height_inches\":11,\"last_name\":\"Labissiere\",\"position\":\"F\",\"team_id\":1,\"weight_pounds\":235},\"pts\":8,\"reb\":6,\"stl\":0,\"team\":{\"id\":25,\"abbreviation\":\"POR\",\"city\":\"Portland\",\"conference\":\"West\",\"division\":\"Northwest\",\"full_name\":\"Portland Trail Blazers\",\"name\":\"Trail Blazers\"},\"turnover\":2},{\"id\":1453322,\"ast\":6,\"blk\":0,\"dreb\":4,\"fg3_pct\":50.0,\"fg3a\":6,\"fg3m\":3,\"fg_pct\":28.6,\"fga\":14,\"fgm\":4,\"ft_pct\":75.0,\"fta\":4,\"ftm\":3,\"game\":{\"id\":62594,\"date\":\"2019-10-23T00:00:00.000Z\",\"home_team_id\":25,\"home_team_score\":100,\"period\":4,\"postseason\":false,\"season\":2019,\"status\":\"Final\",\"time\":\"     \",\"visitor_team_id\":8,\"visitor_team_score\":108},\"min\":\"33:46\",\"oreb\":1,\"pf\":1,\"player\":{\"id\":335,\"first_name\":\"Jamal\",\"height_feet\":6,\"height_inches\":4,\"last_name\":\"Murray\",\"position\":\"G\",\"team_id\":8,\"weight_pounds\":207},\"pts\":14,\"reb\":5,\"stl\":1,\"team\":{\"id\":8,\"abbreviation\":\"DEN\",\"city\":\"Denver\",\"conference\":\"West\",\"division\":\"Northwest\",\"full_name\":\"Denver Nuggets\",\"name\":\"Nuggets\"},\"turnover\":2},{\"id\":1453327,\"ast\":0,\"blk\":0,\"dreb\":0,\"fg3_pct\":0.0,\"fg3a\":0,\"fg3m\":0,\"fg_pct\":0.0,\"fga\":0,\"fgm\":0,\"ft_pct\":0.0,\"fta\":0,\"ftm\":0,\"game\":{\"id\":62594,\"date\":\"2019-10-23T00:00:00.000Z\",\"home_team_id\":25,\"home_team_score\":100,\"period\":4,\"postseason\":false,\"season\":2019,\"status\":\"Final\",\"time\":\"     \",\"visitor_team_id\":8,\"visitor_team_score\":108},\"min\":\"0:00\",\"oreb\":0,\"pf\":0,\"player\":{\"id\":206,\"first_name\":\"Juancho\",\"height_feet\":6,\"height_inches\":9,\"last_name\":\"Hernangomez\",\"position\":\"F\",\"team_id\":18,\"weight_pounds\":230},\"pts\":0,\"reb\":0,\"stl\":0,\"team\":{\"id\":8,\"abbreviation\":\"DEN\",\"city\":\"Denver\",\"conference\":\"West\",\"division\":\"Northwest\",\"full_name\":\"Denver Nuggets\",\"name\":\"Nuggets\"},\"turnover\":0},{\"id\":1453331,\"ast\":0,\"blk\":2,\"dreb\":4,\"fg3_pct\":0.0,\"fg3a\":2,\"fg3m\":0,\"fg_pct\":44.4,\"fga\":9,\"fgm\":4,\"ft_pct\":0.0,\"fta\":0,\"ftm\":0,\"game\":{\"id\":62594,\"date\":\"2019-10-23T00:00:00.000Z\",\"home_team_id\":25,\"home_team_score\":100,\"period\":4,\"postseason\":false,\"season\":2019,\"status\":\"Final\",\"time\":\"     \",\"visitor_team_id\":8,\"visitor_team_score\":108},\"min\":\"30:29\",\"oreb\":1,\"pf\":3,\"player\":{\"id\":102,\"first_name\":\"Zach\",\"height_feet\":7,\"height_inches\":0,\"last_name\":\"Collins\",\"position\":\"F-C\",\"team_id\":25,\"weight_pounds\":235},\"pts\":8,\"reb\":5,\"stl\":0,\"team\":{\"id\":25,\"abbreviation\":\"POR\",\"city\":\"Portland\",\"conference\":\"West\",\"division\":\"Northwest\",\"full_name\":\"Portland Trail Blazers\",\"name\":\"Trail Blazers\"},\"turnover\":2},{\"id\":1453662,\"ast\":0,\"blk\":0,\"dreb\":0,\"fg3_pct\":0.0,\"fg3a\":0,\"fg3m\":0,\"fg_pct\":0.0,\"fga\":0,\"fgm\":0,\"ft_pct\":0.0,\"fta\":0,\"ftm\":0,\"game\":{\"id\":62594,\"date\":\"2019-10-23T00:00:00.000Z\",\"home_team_id\":25,\"home_team_score\":100,\"period\":4,\"postseason\":false,\"season\":2019,\"status\":\"Final\",\"time\":\"     \",\"visitor_team_id\":8,\"visitor_team_score\":108},\"min\":\"0:00\",\"oreb\":0,\"pf\":0,\"player\":{\"id\":135,\"first_name\":\"PJ\",\"height_feet\":6,\"height_inches\":6,\"last_name\":\"Dozier\",\"position\":\"G-F\",\"team_id\":8,\"weight_pounds\":205},\"pts\":0,\"reb\":0,\"stl\":0,\"team\":{\"id\":8,\"abbreviation\":\"DEN\",\"city\":\"Denver\",\"conference\":\"West\",\"division\":\"Northwest\",\"full_name\":\"Denver Nuggets\",\"name\":\"Nuggets\"},\"turnover\":0},{\"id\":1453328,\"ast\":3,\"blk\":0,\"dreb\":1,\"fg3_pct\":0.0,\"fg3a\":0,\"fg3m\":0,\"fg_pct\":33.3,\"fga\":6,\"fgm\":2,\"ft_pct\":100.0,\"fta\":2,\"ftm\":2,\"game\":{\"id\":62594,\"date\":\"2019-10-23T00:00:00.000Z\",\"home_team_id\":25,\"home_team_score\":100,\"period\":4,\"postseason\":false,\"season\":2019,\"status\":\"Final\",\"time\":\"     \",\"visitor_team_id\":8,\"visitor_team_score\":108},\"min\":\"14:11\",\"oreb\":0,\"pf\":0,\"player\":{\"id\":330,\"first_name\":\"Monte\",\"height_feet\":6,\"height_inches\":3,\"last_name\":\"Morris\",\"position\":\"G\",\"team_id\":8,\"weight_pounds\":175},\"pts\":6,\"reb\":1,\"stl\":0,\"team\":{\"id\":8,\"abbreviation\":\"DEN\",\"city\":\"Denver\",\"conference\":\"West\",\"division\":\"Northwest\",\"full_name\":\"Denver Nuggets\",\"name\":\"Nuggets\"},\"turnover\":1},{\"id\":1453326,\"ast\":2,\"blk\":1,\"dreb\":5,\"fg3_pct\":66.7,\"fg3a\":3,\"fg3m\":2,\"fg_pct\":66.7,\"fga\":6,\"fgm\":4,\"ft_pct\":0.0,\"fta\":0,\"ftm\":0,\"game\":{\"id\":62594,\"date\":\"2019-10-23T00:00:00.000Z\",\"home_team_id\":25,\"home_team_score\":100,\"period\":4,\"postseason\":false,\"season\":2019,\"status\":\"Final\",\"time\":\"     \",\"visitor_team_id\":8,\"visitor_team_score\":108},\"min\":\"16:02\",\"oreb\":1,\"pf\":4,\"player\":{\"id\":110,\"first_name\":\"Torrey\",\"height_feet\":6,\"height_inches\":7,\"last_name\":\"Craig\",\"position\":\"F\",\"team_id\":8,\"weight_pounds\":215},\"pts\":10,\"reb\":6,\"stl\":1,\"team\":{\"id\":8,\"abbreviation\":\"DEN\",\"city\":\"Denver\",\"conference\":\"West\",\"division\":\"Northwest\",\"full_name\":\"Denver Nuggets\",\"name\":\"Nuggets\"},\"turnover\":1},{\"id\":1453329,\"ast\":0,\"blk\":0,\"dreb\":0,\"fg3_pct\":0.0,\"fg3a\":0,\"fg3m\":0,\"fg_pct\":0.0,\"fga\":0,\"fgm\":0,\"ft_pct\":0.0,\"fta\":0,\"ftm\":0,\"game\":{\"id\":62594,\"date\":\"2019-10-23T00:00:00.000Z\",\"home_team_id\":25,\"home_team_score\":100,\"period\":4,\"postseason\":false,\"season\":2019,\"status\":\"Final\",\"time\":\"     \",\"visitor_team_id\":8,\"visitor_team_score\":108},\"min\":\"0:00\",\"oreb\":0,\"pf\":0,\"player\":{\"id\":375,\"first_name\":\"Michael\",\"height_feet\":6,\"height_inches\":10,\"last_name\":\"Porter Jr.\",\"position\":\"F\",\"team_id\":8,\"weight_pounds\":210},\"pts\":0,\"reb\":0,\"stl\":0,\"team\":{\"id\":8,\"abbreviation\":\"DEN\",\"city\":\"Denver\",\"conference\":\"West\",\"division\":\"Northwest\",\"full_name\":\"Denver Nuggets\",\"name\":\"Nuggets\"},\"turnover\":0},{\"id\":1453340,\"ast\":0,\"blk\":0,\"dreb\":0,\"fg3_pct\":0.0,\"fg3a\":2,\"fg3m\":0,\"fg_pct\":28.6,\"fga\":7,\"fgm\":2,\"ft_pct\":50.0,\"fta\":2,\"ftm\":1,\"game\":{\"id\":62594,\"date\":\"2019-10-23T00:00:00.000Z\",\"home_team_id\":25,\"home_team_score\":100,\"period\":4,\"postseason\":false,\"season\":2019,\"status\":\"Final\",\"time\":\"     \",\"visitor_team_id\":8,\"visitor_team_score\":108},\"min\":\"12:15\",\"oreb\":0,\"pf\":2,\"player\":{\"id\":419,\"first_name\":\"Anfernee\",\"height_feet\":6,\"height_inches\":4,\"last_name\":\"Simons\",\"position\":\"G\",\"team_id\":25,\"weight_pounds\":185},\"pts\":5,\"reb\":0,\"stl\":2,\"team\":{\"id\":25,\"abbreviation\":\"POR\",\"city\":\"Portland\",\"conference\":\"West\",\"division\":\"Northwest\",\"full_name\":\"Portland Trail Blazers\",\"name\":\"Trail Blazers\"},\"turnover\":1},{\"id\":1453341,\"ast\":0,\"blk\":0,\"dreb\":0,\"fg3_pct\":0.0,\"fg3a\":0,\"fg3m\":0,\"fg_pct\":0.0,\"fga\":0,\"fgm\":0,\"ft_pct\":0.0,\"fta\":0,\"ftm\":0,\"game\":{\"id\":62594,\"date\":\"2019-10-23T00:00:00.000Z\",\"home_team_id\":25,\"home_team_score\":100,\"period\":4,\"postseason\":false,\"season\":2019,\"status\":\"Final\",\"time\":\"     \",\"visitor_team_id\":8,\"visitor_team_score\":108},\"min\":\"0:00\",\"oreb\":0,\"pf\":0,\"player\":{\"id\":3089,\"first_name\":\"Gary\",\"height_feet\":6,\"height_inches\":6,\"last_name\":\"Trent Jr.\",\"position\":\"\",\"team_id\":25,\"weight_pounds\":205},\"pts\":0,\"reb\":0,\"stl\":0,\"team\":{\"id\":25,\"abbreviation\":\"POR\",\"city\":\"Portland\",\"conference\":\"West\",\"division\":\"Northwest\",\"full_name\":\"Portland Trail Blazers\",\"name\":\"Trail Blazers\"},\"turnover\":0},{\"id\":1453339,\"ast\":0,\"blk\":0,\"dreb\":0,\"fg3_pct\":0.0,\"fg3a\":0,\"fg3m\":0,\"fg_pct\":0.0,\"fga\":0,\"fgm\":0,\"ft_pct\":0.0,\"fta\":0,\"ftm\":0,\"game\":{\"id\":62594,\"date\":\"2019-10-23T00:00:00.000Z\",\"home_team_id\":25,\"home_team_score\":100,\"period\":4,\"postseason\":false,\"season\":2019,\"status\":\"Final\",\"time\":\"     \",\"visitor_team_id\":8,\"visitor_team_score\":108},\"min\":\"0:00\",\"oreb\":0,\"pf\":0,\"player\":{\"id\":666729,\"first_name\":\"Nassir\",\"height_feet\":null,\"height_inches\":null,\"last_name\":\"Little\",\"position\":\"F\",\"team_id\":25,\"weight_pounds\":null},\"pts\":0,\"reb\":0,\"stl\":0,\"team\":{\"id\":25,\"abbreviation\":\"POR\",\"city\":\"Portland\",\"conference\":\"West\",\"division\":\"Northwest\",\"full_name\":\"Portland Trail Blazers\",\"name\":\"Trail Blazers\"},\"turnover\":0},{\"id\":1457531,\"ast\":1,\"blk\":0,\"dreb\":0,\"fg3_pct\":0.0,\"fg3a\":2,\"fg3m\":0,\"fg_pct\":0.0,\"fga\":2,\"fgm\":0,\"ft_pct\":0.0,\"fta\":0,\"ftm\":0,\"game\":{\"id\":62597,\"date\":\"2019-10-24T00:00:00.000Z\",\"home_team_id\":9,\"home_team_score\":100,\"period\":4,\"postseason\":false,\"season\":2019,\"status\":\"Final\",\"time\":\"     \",\"visitor_team_id\":1,\"visitor_team_score\":117},\"min\":\"10:14\",\"oreb\":0,\"pf\":1,\"player\":{\"id\":88,\"first_name\":\"Vince\",\"height_feet\":6,\"height_inches\":6,\"last_name\":\"Carter\",\"position\":\"F-G\",\"team_id\":1,\"weight_pounds\":220},\"pts\":0,\"reb\":0,\"stl\":0,\"team\":{\"id\":1,\"abbreviation\":\"ATL\",\"city\":\"Atlanta\",\"conference\":\"East\",\"division\":\"Southeast\",\"full_name\":\"Atlanta Hawks\",\"name\":\"Hawks\"},\"turnover\":1},{\"id\":1457545,\"ast\":3,\"blk\":0,\"dreb\":1,\"fg3_pct\":0.0,\"fg3a\":1,\"fg3m\":0,\"fg_pct\":68.8,\"fga\":16,\"fgm\":11,\"ft_pct\":100.0,\"fta\":5,\"ftm\":5,\"game\":{\"id\":62597,\"date\":\"2019-10-24T00:00:00.000Z\",\"home_team_id\":9,\"home_team_score\":100,\"period\":4,\"postseason\":false,\"season\":2019,\"status\":\"Final\",\"time\":\"     \",\"visitor_team_id\":1,\"visitor_team_score\":117},\"min\":\"25:16\",\"oreb\":0,\"pf\":1,\"player\":{\"id\":401,\"first_name\":\"Derrick\",\"height_feet\":6,\"height_inches\":3,\"last_name\":\"Rose\",\"position\":\"G\",\"team_id\":9,\"weight_pounds\":200},\"pts\":27,\"reb\":1,\"stl\":0,\"team\":{\"id\":9,\"abbreviation\":\"DET\",\"city\":\"Detroit\",\"conference\":\"East\",\"division\":\"Central\",\"full_name\":\"Detroit Pistons\",\"name\":\"Pistons\"},\"turnover\":3},{\"id\":1457537,\"ast\":4,\"blk\":0,\"dreb\":0,\"fg3_pct\":0.0,\"fg3a\":0,\"fg3m\":0,\"fg_pct\":100.0,\"fga\":4,\"fgm\":4,\"ft_pct\":100.0,\"fta\":1,\"ftm\":1,\"game\":{\"id\":62597,\"date\":\"2019-10-24T00:00:00.000Z\",\"home_team_id\":9,\"home_team_score\":100,\"period\":4,\"postseason\":false,\"season\":2019,\"status\":\"Final\",\"time\":\"     \",\"visitor_team_id\":1,\"visitor_team_score\":117},\"min\":\"16:48\",\"oreb\":0,\"pf\":0,\"player\":{\"id\":451,\"first_name\":\"Evan\",\"height_feet\":6,\"height_inches\":7,\"last_name\":\"Turner\",\"position\":\"G-F\",\"team_id\":18,\"weight_pounds\":220},\"pts\":9,\"reb\":0,\"stl\":1,\"team\":{\"id\":1,\"abbreviation\":\"ATL\",\"city\":\"Atlanta\",\"conference\":\"East\",\"division\":\"Southeast\",\"full_name\":\"Atlanta Hawks\",\"name\":\"Hawks\"},\"turnover\":0},{\"id\":1457539,\"ast\":2,\"blk\":0,\"dreb\":3,\"fg3_pct\":25.0,\"fg3a\":4,\"fg3m\":1,\"fg_pct\":27.3,\"fga\":11,\"fgm\":3,\"ft_pct\":0.0,\"fta\":0,\"ftm\":0,\"game\":{\"id\":62597,\"date\":\"2019-10-24T00:00:00.000Z\",\"home_team_id\":9,\"home_team_score\":100,\"period\":4,\"postseason\":false,\"season\":2019,\"status\":\"Final\",\"time\":\"     \",\"visitor_team_id\":1,\"visitor_team_score\":117},\"min\":\"25:43\",\"oreb\":3,\"pf\":3,\"player\":{\"id\":329,\"first_name\":\"Markieff\",\"height_feet\":null,\"height_inches\":null,\"last_name\":\"Morris\",\"position\":\"F\",\"team_id\":14,\"weight_pounds\":null},\"pts\":7,\"reb\":6,\"stl\":0,\"team\":{\"id\":9,\"abbreviation\":\"DET\",\"city\":\"Detroit\",\"conference\":\"East\",\"division\":\"Central\",\"full_name\":\"Detroit Pistons\",\"name\":\"Pistons\"},\"turnover\":2},{\"id\":1457542,\"ast\":3,\"blk\":0,\"dreb\":3,\"fg3_pct\":0.0,\"fg3a\":3,\"fg3m\":0,\"fg_pct\":25.0,\"fga\":8,\"fgm\":2,\"ft_pct\":100.0,\"fta\":1,\"ftm\":1,\"game\":{\"id\":62597,\"date\":\"2019-10-24T00:00:00.000Z\",\"home_team_id\":9,\"home_team_score\":100,\"period\":4,\"postseason\":false,\"season\":2019,\"status\":\"Final\",\"time\":\"     \",\"visitor_team_id\":1,\"visitor_team_score\":117},\"min\":\"15:25\",\"oreb\":1,\"pf\":1,\"player\":{\"id\":236,\"first_name\":\"Reggie\",\"height_feet\":6,\"height_inches\":3,\"last_name\":\"Jackson\",\"position\":\"G\",\"team_id\":13,\"weight_pounds\":208},\"pts\":5,\"reb\":4,\"stl\":0,\"team\":{\"id\":9,\"abbreviation\":\"DET\",\"city\":\"Detroit\",\"conference\":\"East\",\"division\":\"Central\",\"full_name\":\"Detroit Pistons\",\"name\":\"Pistons\"},\"turnover\":0},{\"id\":1457540,\"ast\":2,\"blk\":1,\"dreb\":11,\"fg3_pct\":0.0,\"fg3a\":0,\"fg3m\":0,\"fg_pct\":66.7,\"fga\":12,\"fgm\":8,\"ft_pct\":83.3,\"fta\":6,\"ftm\":5,\"game\":{\"id\":62597,\"date\":\"2019-10-24T00:00:00.000Z\",\"home_team_id\":9,\"home_team_score\":100,\"period\":4,\"postseason\":false,\"season\":2019,\"status\":\"Final\",\"time\":\"     \",\"visitor_team_id\":1,\"visitor_team_score\":117},\"min\":\"36:45\",\"oreb\":1,\"pf\":4,\"player\":{\"id\":137,\"first_name\":\"Andre\",\"height_feet\":6,\"height_inches\":11,\"last_name\":\"Drummond\",\"position\":\"C\",\"team_id\":6,\"weight_pounds\":279},\"pts\":21,\"reb\":12,\"stl\":4,\"team\":{\"id\":9,\"abbreviation\":\"DET\",\"city\":\"Detroit\",\"conference\":\"East\",\"division\":\"Central\",\"full_name\":\"Detroit Pistons\",\"name\":\"Pistons\"},\"turnover\":4},{\"id\":1457527,\"ast\":1,\"blk\":1,\"dreb\":4,\"fg3_pct\":0.0,\"fg3a\":2,\"fg3m\":0,\"fg_pct\":20.0,\"fga\":5,\"fgm\":1,\"ft_pct\":100.0,\"fta\":2,\"ftm\":2,\"game\":{\"id\":62597,\"date\":\"2019-10-24T00:00:00.000Z\",\"home_team_id\":9,\"home_team_score\":100,\"period\":4,\"postseason\":false,\"season\":2019,\"status\":\"Final\",\"time\":\"     \",\"visitor_team_id\":1,\"visitor_team_score\":117},\"min\":\"23:53\",\"oreb\":2,\"pf\":2,\"player\":{\"id\":273,\"first_name\":\"Alex\",\"height_feet\":7,\"height_inches\":1,\"last_name\":\"Len\",\"position\":\"C\",\"team_id\":26,\"weight_pounds\":250},\"pts\":4,\"reb\":6,\"stl\":2,\"team\":{\"id\":1,\"abbreviation\":\"ATL\",\"city\":\"Atlanta\",\"conference\":\"East\",\"division\":\"Southeast\",\"full_name\":\"Atlanta Hawks\",\"name\":\"Hawks\"},\"turnover\":1},{\"id\":1457538,\"ast\":2,\"blk\":1,\"dreb\":1,\"fg3_pct\":42.9,\"fg3a\":7,\"fg3m\":3,\"fg_pct\":37.5,\"fga\":8,\"fgm\":3,\"ft_pct\":0.0,\"fta\":0,\"ftm\":0,\"game\":{\"id\":62597,\"date\":\"2019-10-24T00:00:00.000Z\",\"home_team_id\":9,\"home_team_score\":100,\"period\":4,\"postseason\":false,\"season\":2019,\"status\":\"Final\",\"time\":\"     \",\"visitor_team_id\":1,\"visitor_team_score\":117},\"min\":\"33:36\",\"oreb\":1,\"pf\":2,\"player\":{\"id\":426,\"first_name\":\"Tony\",\"height_feet\":6,\"height_inches\":7,\"last_name\":\"Snell\",\"position\":\"G\",\"team_id\":9,\"weight_pounds\":213},\"pts\":9,\"reb\":2,\"stl\":0,\"team\":{\"id\":9,\"abbreviation\":\"DET\",\"city\":\"Detroit\",\"conference\":\"East\",\"division\":\"Central\",\"full_name\":\"Detroit Pistons\",\"name\":\"Pistons\"},\"turnover\":0},{\"id\":1457530,\"ast\":0,\"blk\":0,\"dreb\":1,\"fg3_pct\":50.0,\"fg3a\":2,\"fg3m\":1,\"fg_pct\":72.7,\"fga\":11,\"fgm\":8,\"ft_pct\":100.0,\"fta\":1,\"ftm\":1,\"game\":{\"id\":62597,\"date\":\"2019-10-24T00:00:00.000Z\",\"home_team_id\":9,\"home_team_score\":100,\"period\":4,\"postseason\":false,\"season\":2019,\"status\":\"Final\",\"time\":\"     \",\"visitor_team_id\":1,\"visitor_team_score\":117},\"min\":\"22:40\",\"oreb\":0,\"pf\":1,\"player\":{\"id\":362,\"first_name\":\"Jabari\",\"height_feet\":6,\"height_inches\":8,\"last_name\":\"Parker\",\"position\":\"F\",\"team_id\":26,\"weight_pounds\":245},\"pts\":18,\"reb\":1,\"stl\":0,\"team\":{\"id\":1,\"abbreviation\":\"ATL\",\"city\":\"Atlanta\",\"conference\":\"East\",\"division\":\"Southeast\",\"full_name\":\"Atlanta Hawks\",\"name\":\"Hawks\"},\"turnover\":0},{\"id\":1457546,\"ast\":1,\"blk\":0,\"dreb\":0,\"fg3_pct\":25.0,\"fg3a\":4,\"fg3m\":1,\"fg_pct\":40.0,\"fga\":5,\"fgm\":2,\"ft_pct\":100.0,\"fta\":2,\"ftm\":2,\"game\":{\"id\":62597,\"date\":\"2019-10-24T00:00:00.000Z\",\"home_team_id\":9,\"home_team_score\":100,\"period\":4,\"postseason\":false,\"season\":2019,\"status\":\"Final\",\"time\":\"     \",\"visitor_team_id\":1,\"visitor_team_score\":117},\"min\":\"10:13\",\"oreb\":0,\"pf\":3,\"player\":{\"id\":163,\"first_name\":\"Tim\",\"height_feet\":6,\"height_inches\":1,\"last_name\":\"Frazier\",\"position\":\"G\",\"team_id\":9,\"weight_pounds\":170},\"pts\":7,\"reb\":0,\"stl\":0,\"team\":{\"id\":9,\"abbreviation\":\"DET\",\"city\":\"Detroit\",\"conference\":\"East\",\"division\":\"Central\",\"full_name\":\"Detroit Pistons\",\"name\":\"Pistons\"},\"turnover\":0},{\"id\":1457547,\"ast\":3,\"blk\":1,\"dreb\":3,\"fg3_pct\":28.6,\"fg3a\":7,\"fg3m\":2,\"fg_pct\":22.2,\"fga\":9,\"fgm\":2,\"ft_pct\":100.0,\"fta\":2,\"ftm\":2,\"game\":{\"id\":62597,\"date\":\"2019-10-24T00:00:00.000Z\",\"home_team_id\":9,\"home_team_score\":100,\"period\":4,\"postseason\":false,\"season\":2019,\"status\":\"Final\",\"time\":\"     \",\"visitor_team_id\":1,\"visitor_team_score\":117},\"min\":\"25:51\",\"oreb\":0,\"pf\":1,\"player\":{\"id\":168,\"first_name\":\"Langston\",\"height_feet\":6,\"height_inches\":2,\"last_name\":\"Galloway\",\"position\":\"G\",\"team_id\":9,\"weight_pounds\":200},\"pts\":8,\"reb\":3,\"stl\":1,\"team\":{\"id\":9,\"abbreviation\":\"DET\",\"city\":\"Detroit\",\"conference\":\"East\",\"division\":\"Central\",\"full_name\":\"Detroit Pistons\",\"name\":\"Pistons\"},\"turnover\":1},{\"id\":1457550,\"ast\":0,\"blk\":0,\"dreb\":0,\"fg3_pct\":0.0,\"fg3a\":0,\"fg3m\":0,\"fg_pct\":0.0,\"fga\":0,\"fgm\":0,\"ft_pct\":0.0,\"fta\":0,\"ftm\":0,\"game\":{\"id\":62597,\"date\":\"2019-10-24T00:00:00.000Z\",\"home_team_id\":9,\"home_team_score\":100,\"period\":4,\"postseason\":false,\"season\":2019,\"status\":\"Final\",\"time\":\"     \",\"visitor_team_id\":1,\"visitor_team_score\":117},\"min\":\"0:00\",\"oreb\":0,\"pf\":0,\"player\":{\"id\":486,\"first_name\":\"Christian\",\"height_feet\":6,\"height_inches\":10,\"last_name\":\"Wood\",\"position\":\"F\",\"team_id\":9,\"weight_pounds\":214},\"pts\":0,\"reb\":0,\"stl\":0,\"team\":{\"id\":9,\"abbreviation\":\"DET\",\"city\":\"Detroit\",\"conference\":\"East\",\"division\":\"Central\",\"full_name\":\"Detroit Pistons\",\"name\":\"Pistons\"},\"turnover\":0},{\"id\":1457536,\"ast\":0,\"blk\":0,\"dreb\":0,\"fg3_pct\":0.0,\"fg3a\":0,\"fg3m\":0,\"fg_pct\":0.0,\"fga\":0,\"fgm\":0,\"ft_pct\":0.0,\"fta\":0,\"ftm\":0,\"game\":{\"id\":62597,\"date\":\"2019-10-24T00:00:00.000Z\",\"home_team_id\":9,\"home_team_score\":100,\"period\":4,\"postseason\":false,\"season\":2019,\"status\":\"Final\",\"time\":\"     \",\"visitor_team_id\":1,\"visitor_team_score\":117},\"min\":\"0:00\",\"oreb\":0,\"pf\":0,\"player\":{\"id\":248,\"first_name\":\"Damian\",\"height_feet\":7,\"height_inches\":0,\"last_name\":\"Jones\",\"position\":\"C\",\"team_id\":1,\"weight_pounds\":245},\"pts\":0,\"reb\":0,\"stl\":0,\"team\":{\"id\":1,\"abbreviation\":\"ATL\",\"city\":\"Atlanta\",\"conference\":\"East\",\"division\":\"Southeast\",\"full_name\":\"Atlanta Hawks\",\"name\":\"Hawks\"},\"turnover\":0},{\"id\":1457544,\"ast\":1,\"blk\":2,\"dreb\":3,\"fg3_pct\":0.0,\"fg3a\":1,\"fg3m\":0,\"fg_pct\":0.0,\"fga\":1,\"fgm\":0,\"ft_pct\":50.0,\"fta\":2,\"ftm\":1,\"game\":{\"id\":62597,\"date\":\"2019-10-24T00:00:00.000Z\",\"home_team_id\":9,\"home_team_score\":100,\"period\":4,\"postseason\":false,\"season\":2019,\"status\":\"Final\",\"time\":\"     \",\"visitor_team_id\":1,\"visitor_team_score\":117},\"min\":\"19:16\",\"oreb\":2,\"pf\":0,\"player\":{\"id\":295,\"first_name\":\"Thon\",\"height_feet\":7,\"height_inches\":1,\"last_name\":\"Maker\",\"position\":\"F\",\"team_id\":9,\"weight_pounds\":221},\"pts\":1,\"reb\":5,\"stl\":0,\"team\":{\"id\":9,\"abbreviation\":\"DET\",\"city\":\"Detroit\",\"conference\":\"East\",\"division\":\"Central\",\"full_name\":\"Detroit Pistons\",\"name\":\"Pistons\"},\"turnover\":1},{\"id\":1457533,\"ast\":3,\"blk\":0,\"dreb\":1,\"fg3_pct\":0.0,\"fg3a\":1,\"fg3m\":0,\"fg_pct\":80.0,\"fga\":5,\"fgm\":4,\"ft_pct\":0.0,\"fta\":0,\"ftm\":0,\"game\":{\"id\":62597,\"date\":\"2019-10-24T00:00:00.000Z\",\"home_team_id\":9,\"home_team_score\":100,\"period\":4,\"postseason\":false,\"season\":2019,\"status\":\"Final\",\"time\":\"     \",\"visitor_team_id\":1,\"visitor_team_score\":117},\"min\":\"23:31\",\"oreb\":1,\"pf\":1,\"player\":{\"id\":42,\"first_name\":\"DeAndre'\",\"height_feet\":6,\"height_inches\":6,\"last_name\":\"Bembry\",\"position\":\"F\",\"team_id\":1,\"weight_pounds\":210},\"pts\":8,\"reb\":2,\"stl\":2,\"team\":{\"id\":1,\"abbreviation\":\"ATL\",\"city\":\"Atlanta\",\"conference\":\"East\",\"division\":\"Southeast\",\"full_name\":\"Atlanta Hawks\",\"name\":\"Hawks\"},\"turnover\":0},{\"id\":1457543,\"ast\":3,\"blk\":0,\"dreb\":3,\"fg3_pct\":33.3,\"fg3a\":9,\"fg3m\":3,\"fg_pct\":25.0,\"fga\":12,\"fgm\":3,\"ft_pct\":100.0,\"fta\":4,\"ftm\":4,\"game\":{\"id\":62597,\"date\":\"2019-10-24T00:00:00.000Z\",\"home_team_id\":9,\"home_team_score\":100,\"period\":4,\"postseason\":false,\"season\":2019,\"status\":\"Final\",\"time\":\"     \",\"visitor_team_id\":1,\"visitor_team_score\":117},\"min\":\"30:31\",\"oreb\":1,\"pf\":0,\"player\":{\"id\":254,\"first_name\":\"Luke\",\"height_feet\":6,\"height_inches\":5,\"last_name\":\"Kennard\",\"position\":\"G\",\"team_id\":9,\"weight_pounds\":206},\"pts\":13,\"reb\":4,\"stl\":1,\"team\":{\"id\":9,\"abbreviation\":\"DET\",\"city\":\"Detroit\",\"conference\":\"East\",\"division\":\"Central\",\"full_name\":\"Detroit Pistons\",\"name\":\"Pistons\"},\"turnover\":1},{\"id\":1457526,\"ast\":1,\"blk\":1,\"dreb\":7,\"fg3_pct\":33.3,\"fg3a\":3,\"fg3m\":1,\"fg_pct\":53.3,\"fga\":15,\"fgm\":8,\"ft_pct\":100.0,\"fta\":1,\"ftm\":1,\"game\":{\"id\":62597,\"date\":\"2019-10-24T00:00:00.000Z\",\"home_team_id\":9,\"home_team_score\":100,\"period\":4,\"postseason\":false,\"season\":2019,\"status\":\"Final\",\"time\":\"     \",\"visitor_team_id\":1,\"visitor_team_score\":117},\"min\":\"30:14\",\"oreb\":3,\"pf\":2,\"player\":{\"id\":101,\"first_name\":\"John\",\"height_feet\":6,\"height_inches\":10,\"last_name\":\"Collins\",\"position\":\"F-C\",\"team_id\":1,\"weight_pounds\":235},\"pts\":18,\"reb\":10,\"stl\":2,\"team\":{\"id\":1,\"abbreviation\":\"ATL\",\"city\":\"Atlanta\",\"conference\":\"East\",\"division\":\"Southeast\",\"full_name\":\"Atlanta Hawks\",\"name\":\"Hawks\"},\"turnover\":0},{\"id\":1457541,\"ast\":0,\"blk\":0,\"dreb\":2,\"fg3_pct\":0.0,\"fg3a\":1,\"fg3m\":0,\"fg_pct\":33.3,\"fga\":3,\"fgm\":1,\"ft_pct\":0.0,\"fta\":0,\"ftm\":0,\"game\":{\"id\":62597,\"date\":\"2019-10-24T00:00:00.000Z\",\"home_team_id\":9,\"home_team_score\":100,\"period\":4,\"postseason\":false,\"season\":2019,\"status\":\"Final\",\"time\":\"     \",\"visitor_team_id\":1,\"visitor_team_score\":117},\"min\":\"17:24\",\"oreb\":0,\"pf\":5,\"player\":{\"id\":69,\"first_name\":\"Bruce\",\"height_feet\":6,\"height_inches\":5,\"last_name\":\"Brown\",\"position\":\"G\",\"team_id\":9,\"weight_pounds\":202},\"pts\":2,\"reb\":2,\"stl\":0,\"team\":{\"id\":9,\"abbreviation\":\"DET\",\"city\":\"Detroit\",\"conference\":\"East\",\"division\":\"Central\",\"full_name\":\"Detroit Pistons\",\"name\":\"Pistons\"},\"turnover\":1},{\"id\":1457532,\"ast\":2,\"blk\":0,\"dreb\":2,\"fg3_pct\":100.0,\"fg3a\":1,\"fg3m\":1,\"fg_pct\":50.0,\"fga\":6,\"fgm\":3,\"ft_pct\":0.0,\"fta\":0,\"ftm\":0,\"game\":{\"id\":62597,\"date\":\"2019-10-24T00:00:00.000Z\",\"home_team_id\":9,\"home_team_score\":100,\"period\":4,\"postseason\":false,\"season\":2019,\"status\":\"Final\",\"time\":\"     \",\"visitor_team_id\":1,\"visitor_team_score\":117},\"min\":\"14:25\",\"oreb\":1,\"pf\":2,\"player\":{\"id\":666564,\"first_name\":\"Bruno\",\"height_feet\":null,\"height_inches\":null,\"last_name\":\"Fernando\",\"position\":\"F\",\"team_id\":1,\"weight_pounds\":null},\"pts\":7,\"reb\":3,\"stl\":0,\"team\":{\"id\":1,\"abbreviation\":\"ATL\",\"city\":\"Atlanta\",\"conference\":\"East\",\"division\":\"Southeast\",\"full_name\":\"Atlanta Hawks\",\"name\":\"Hawks\"},\"turnover\":0},{\"id\":1457535,\"ast\":5,\"blk\":0,\"dreb\":4,\"fg3_pct\":0.0,\"fg3a\":2,\"fg3m\":0,\"fg_pct\":0.0,\"fga\":3,\"fgm\":0,\"ft_pct\":0.0,\"fta\":0,\"ftm\":0,\"game\":{\"id\":62597,\"date\":\"2019-10-24T00:00:00.000Z\",\"home_team_id\":9,\"home_team_score\":100,\"period\":4,\"postseason\":false,\"season\":2019,\"status\":\"Final\",\"time\":\"     \",\"visitor_team_id\":1,\"visitor_team_score\":117},\"min\":\"14:04\",\"oreb\":0,\"pf\":5,\"player\":{\"id\":221,\"first_name\":\"Kevin\",\"height_feet\":6,\"height_inches\":7,\"last_name\":\"Huerter\",\"position\":\"G\",\"team_id\":1,\"weight_pounds\":190},\"pts\":0,\"reb\":4,\"stl\":0,\"team\":{\"id\":1,\"abbreviation\":\"ATL\",\"city\":\"Atlanta\",\"conference\":\"East\",\"division\":\"Southeast\",\"full_name\":\"Atlanta Hawks\",\"name\":\"Hawks\"},\"turnover\":3},{\"id\":1457548,\"ast\":0,\"blk\":0,\"dreb\":0,\"fg3_pct\":0.0,\"fg3a\":0,\"fg3m\":0,\"fg_pct\":0.0,\"fga\":0,\"fgm\":0,\"ft_pct\":0.0,\"fta\":0,\"ftm\":0,\"game\":{\"id\":62597,\"date\":\"2019-10-24T00:00:00.000Z\",\"home_team_id\":9,\"home_team_score\":100,\"period\":4,\"postseason\":false,\"season\":2019,\"status\":\"Final\",\"time\":\"     \",\"visitor_team_id\":1,\"visitor_team_score\":117},\"min\":\"0:00\",\"oreb\":0,\"pf\":0,\"player\":{\"id\":338,\"first_name\":\"Svi\",\"height_feet\":6,\"height_inches\":8,\"last_name\":\"Mykhailiuk\",\"position\":\"G\",\"team_id\":9,\"weight_pounds\":205},\"pts\":0,\"reb\":0,\"stl\":0,\"team\":{\"id\":9,\"abbreviation\":\"DET\",\"city\":\"Detroit\",\"conference\":\"East\",\"division\":\"Central\",\"full_name\":\"Detroit Pistons\",\"name\":\"Pistons\"},\"turnover\":0},{\"id\":1457549,\"ast\":0,\"blk\":0,\"dreb\":0,\"fg3_pct\":0.0,\"fg3a\":0,\"fg3m\":0,\"fg_pct\":0.0,\"fga\":0,\"fgm\":0,\"ft_pct\":0.0,\"fta\":0,\"ftm\":0,\"game\":{\"id\":62597,\"date\":\"2019-10-24T00:00:00.000Z\",\"home_team_id\":9,\"home_team_score\":100,\"period\":4,\"postseason\":false,\"season\":2019,\"status\":\"Final\",\"time\":\"     \",\"visitor_team_id\":1,\"visitor_team_score\":117},\"min\":\"0:00\",\"oreb\":0,\"pf\":0,\"player\":{\"id\":441,\"first_name\":\"Khyri\",\"height_feet\":6,\"height_inches\":3,\"last_name\":\"Thomas\",\"position\":\"G\",\"team_id\":9,\"weight_pounds\":210},\"pts\":0,\"reb\":0,\"stl\":0,\"team\":{\"id\":9,\"abbreviation\":\"DET\",\"city\":\"Detroit\",\"conference\":\"East\",\"division\":\"Central\",\"full_name\":\"Detroit Pistons\",\"name\":\"Pistons\"},\"turnover\":0},{\"id\":1457529,\"ast\":9,\"blk\":0,\"dreb\":7,\"fg3_pct\":60.0,\"fg3a\":10,\"fg3m\":6,\"fg_pct\":52.4,\"fga\":21,\"fgm\":11,\"ft_pct\":83.3,\"fta\":12,\"ftm\":10,\"game\":{\"id\":62597,\"date\":\"2019-10-24T00:00:00.000Z\",\"home_team_id\":9,\"home_team_score\":100,\"period\":4,\"postseason\":false,\"season\":2019,\"status\":\"Final\",\"time\":\"     \",\"visitor_team_id\":1,\"visitor_team_score\":117},\"min\":\"37:15\",\"oreb\":0,\"pf\":0,\"player\":{\"id\":490,\"first_name\":\"Trae\",\"height_feet\":6,\"height_inches\":2,\"last_name\":\"Young\",\"position\":\"G\",\"team_id\":1,\"weight_pounds\":180},\"pts\":38,\"reb\":7,\"stl\":1,\"team\":{\"id\":1,\"abbreviation\":\"ATL\",\"city\":\"Atlanta\",\"conference\":\"East\",\"division\":\"Southeast\",\"full_name\":\"Atlanta Hawks\",\"name\":\"Hawks\"},\"turnover\":6},{\"id\":1457534,\"ast\":0,\"blk\":0,\"dreb\":0,\"fg3_pct\":0.0,\"fg3a\":0,\"fg3m\":0,\"fg_pct\":0.0,\"fga\":0,\"fgm\":0,\"ft_pct\":0.0,\"fta\":0,\"ftm\":0,\"game\":{\"id\":62597,\"date\":\"2019-10-24T00:00:00.000Z\",\"home_team_id\":9,\"home_team_score\":100,\"period\":4,\"postseason\":false,\"season\":2019,\"status\":\"Final\",\"time\":\"     \",\"visitor_team_id\":1,\"visitor_team_score\":117},\"min\":\"0:00\",\"oreb\":0,\"pf\":0,\"player\":{\"id\":3091,\"first_name\":\"Brandon\",\"height_feet\":6,\"height_inches\":2,\"last_name\":\"Goodwin\",\"position\":\"\",\"team_id\":1,\"weight_pounds\":180},\"pts\":0,\"reb\":0,\"stl\":0,\"team\":{\"id\":1,\"abbreviation\":\"ATL\",\"city\":\"Atlanta\",\"conference\":\"East\",\"division\":\"Southeast\",\"full_name\":\"Atlanta Hawks\",\"name\":\"Hawks\"},\"turnover\":0},{\"id\":1457528,\"ast\":1,\"blk\":0,\"dreb\":6,\"fg3_pct\":0.0,\"fg3a\":5,\"fg3m\":0,\"fg_pct\":0.0,\"fga\":6,\"fgm\":0,\"ft_pct\":50.0,\"fta\":2,\"ftm\":1,\"game\":{\"id\":62597,\"date\":\"2019-10-24T00:00:00.000Z\",\"home_team_id\":9,\"home_team_score\":100,\"period\":4,\"postseason\":false,\"season\":2019,\"status\":\"Final\",\"time\":\"     \",\"visitor_team_id\":1,\"visitor_team_score\":117},\"min\":\"21:27\",\"oreb\":1,\"pf\":1,\"player\":{\"id\":666860,\"first_name\":\"Cameron\",\"height_feet\":null,\"height_inches\":null,\"last_name\":\"Reddish\",\"position\":\"F-G\",\"team_id\":1,\"weight_pounds\":null},\"pts\":1,\"reb\":7,\"stl\":1,\"team\":{\"id\":1,\"abbreviation\":\"ATL\",\"city\":\"Atlanta\",\"conference\":\"East\",\"division\":\"Southeast\",\"full_name\":\"Atlanta Hawks\",\"name\":\"Hawks\"},\"turnover\":0},{\"id\":1457525,\"ast\":0,\"blk\":0,\"dreb\":2,\"fg3_pct\":66.7,\"fg3a\":3,\"fg3m\":2,\"fg_pct\":62.5,\"fga\":8,\"fgm\":5,\"ft_pct\":100.0,\"fta\":2,\"ftm\":2,\"game\":{\"id\":62597,\"date\":\"2019-10-24T00:00:00.000Z\",\"home_team_id\":9,\"home_team_score\":100,\"period\":4,\"postseason\":false,\"season\":2019,\"status\":\"Final\",\"time\":\"     \",\"visitor_team_id\":1,\"visitor_team_score\":117},\"min\":\"25:27\",\"oreb\":0,\"pf\":0,\"player\":{\"id\":666656,\"first_name\":\"De'Andre\",\"height_feet\":null,\"height_inches\":null,\"last_name\":\"Hunter\",\"position\":\"F\",\"team_id\":1,\"weight_pounds\":null},\"pts\":14,\"reb\":2,\"stl\":0,\"team\":{\"id\":1,\"abbreviation\":\"ATL\",\"city\":\"Atlanta\",\"conference\":\"East\",\"division\":\"Southeast\",\"full_name\":\"Atlanta Hawks\",\"name\":\"Hawks\"},\"turnover\":2},{\"id\":1452053,\"ast\":3,\"blk\":0,\"dreb\":7,\"fg3_pct\":57.1,\"fg3a\":7,\"fg3m\":4,\"fg_pct\":46.7,\"fga\":15,\"fgm\":7,\"ft_pct\":100.0,\"fta\":4,\"ftm\":4,\"game\":{\"id\":62596,\"date\":\"2019-10-23T00:00:00.000Z\",\"home_team_id\":29,\"home_team_score\":100,\"period\":4,\"postseason\":false,\"season\":2019,\"status\":\"Final\",\"time\":\"     \",\"visitor_team_id\":21,\"visitor_team_score\":95},\"min\":\"30:07\",\"oreb\":1,\"pf\":4,\"player\":{\"id\":367,\"first_name\":\"Chris\",\"height_feet\":6,\"height_inches\":0,\"last_name\":\"Paul\",\"position\":\"G\",\"team_id\":21,\"weight_pounds\":175},\"pts\":22,\"reb\":8,\"stl\":1,\"team\":{\"id\":21,\"abbreviation\":\"OKC\",\"city\":\"Oklahoma City\",\"conference\":\"West\",\"division\":\"Northwest\",\"full_name\":\"Oklahoma City Thunder\",\"name\":\"Thunder\"},\"turnover\":1},{\"id\":1452066,\"ast\":5,\"blk\":0,\"dreb\":0,\"fg3_pct\":0.0,\"fg3a\":6,\"fg3m\":0,\"fg_pct\":6.2,\"fga\":16,\"fgm\":1,\"ft_pct\":75.0,\"fta\":4,\"ftm\":3,\"game\":{\"id\":62596,\"date\":\"2019-10-23T00:00:00.000Z\",\"home_team_id\":29,\"home_team_score\":100,\"period\":4,\"postseason\":false,\"season\":2019,\"status\":\"Final\",\"time\":\"     \",\"visitor_team_id\":21,\"visitor_team_score\":95},\"min\":\"26:43\",\"oreb\":0,\"pf\":5,\"player\":{\"id\":104,\"first_name\":\"Mike\",\"height_feet\":6,\"height_inches\":1,\"last_name\":\"Conley\",\"position\":\"G\",\"team_id\":29,\"weight_pounds\":175},\"pts\":5,\"reb\":0,\"stl\":1,\"team\":{\"id\":29,\"abbreviation\":\"UTA\",\"city\":\"Utah\",\"conference\":\"West\",\"division\":\"Northwest\",\"full_name\":\"Utah Jazz\",\"name\":\"Jazz\"},\"turnover\":2},{\"id\":1452069,\"ast\":1,\"blk\":1,\"dreb\":2,\"fg3_pct\":33.3,\"fg3a\":3,\"fg3m\":1,\"fg_pct\":25.0,\"fga\":4,\"fgm\":1,\"ft_pct\":50.0,\"fta\":4,\"ftm\":2,\"game\":{\"id\":62596,\"date\":\"2019-10-23T00:00:00.000Z\",\"home_team_id\":29,\"home_team_score\":100,\"period\":4,\"postseason\":false,\"season\":2019,\"status\":\"Final\",\"time\":\"     \",\"visitor_team_id\":21,\"visitor_team_score\":95},\"min\":\"16:34\",\"oreb\":0,\"pf\":2,\"player\":{\"id\":188,\"first_name\":\"Jeff\",\"height_feet\":6,\"height_inches\":9,\"last_name\":\"Green\",\"position\":\"F\",\"team_id\":11,\"weight_pounds\":235},\"pts\":5,\"reb\":2,\"stl\":0,\"team\":{\"id\":29,\"abbreviation\":\"UTA\",\"city\":\"Utah\",\"conference\":\"West\",\"division\":\"Northwest\",\"full_name\":\"Utah Jazz\",\"name\":\"Jazz\"},\"turnover\":1},{\"id\":1452050,\"ast\":2,\"blk\":0,\"dreb\":7,\"fg3_pct\":40.0,\"fg3a\":5,\"fg3m\":2,\"fg_pct\":53.8,\"fga\":13,\"fgm\":7,\"ft_pct\":100.0,\"fta\":5,\"ftm\":5,\"game\":{\"id\":62596,\"date\":\"2019-10-23T00:00:00.000Z\",\"home_team_id\":29,\"home_team_score\":100,\"period\":4,\"postseason\":false,\"season\":2019,\"status\":\"Final\",\"time\":\"     \",\"visitor_team_id\":21,\"visitor_team_score\":95},\"min\":\"28:20\",\"oreb\":0,\"pf\":2,\"player\":{\"id\":167,\"first_name\":\"Danilo\",\"height_feet\":6,\"height_inches\":10,\"last_name\":\"Gallinari\",\"position\":\"F\",\"team_id\":21,\"weight_pounds\":225},\"pts\":21,\"reb\":7,\"stl\":1,\"team\":{\"id\":21,\"abbreviation\":\"OKC\",\"city\":\"Oklahoma City\",\"conference\":\"West\",\"division\":\"Northwest\",\"full_name\":\"Oklahoma City Thunder\",\"name\":\"Thunder\"},\"turnover\":1},{\"id\":1452070,\"ast\":0,\"blk\":2,\"dreb\":3,\"fg3_pct\":0.0,\"fg3a\":0,\"fg3m\":0,\"fg_pct\":0.0,\"fga\":3,\"fgm\":0,\"ft_pct\":100.0,\"fta\":2,\"ftm\":2,\"game\":{\"id\":62596,\"date\":\"2019-10-23T00:00:00.000Z\",\"home_team_id\":29,\"home_team_score\":100,\"period\":4,\"postseason\":false,\"season\":2019,\"status\":\"Final\",\"time\":\"     \",\"visitor_team_id\":21,\"visitor_team_score\":95},\"min\":\"10:05\",\"oreb\":3,\"pf\":5,\"player\":{\"id\":118,\"first_name\":\"Ed\",\"height_feet\":6,\"height_inches\":10,\"last_name\":\"Davis\",\"position\":\"C\",\"team_id\":29,\"weight_pounds\":225},\"pts\":2,\"reb\":6,\"stl\":0,\"team\":{\"id\":29,\"abbreviation\":\"UTA\",\"city\":\"Utah\",\"conference\":\"West\",\"division\":\"Northwest\",\"full_name\":\"Utah Jazz\",\"name\":\"Jazz\"},\"turnover\":1},{\"id\":1452062,\"ast\":0,\"blk\":0,\"dreb\":3,\"fg3_pct\":20.0,\"fg3a\":5,\"fg3m\":1,\"fg_pct\":42.9,\"fga\":14,\"fgm\":6,\"ft_pct\":100.0,\"fta\":3,\"ftm\":3,\"game\":{\"id\":62596,\"date\":\"2019-10-23T00:00:00.000Z\",\"home_team_id\":29,\"home_team_score\":100,\"period\":4,\"postseason\":false,\"season\":2019,\"status\":\"Final\",\"time\":\"     \",\"visitor_team_id\":21,\"visitor_team_score\":95},\"min\":\"23:54\",\"oreb\":0,\"pf\":2,\"player\":{\"id\":54,\"first_name\":\"Bojan\",\"height_feet\":6,\"height_inches\":8,\"last_name\":\"Bogdanovic\",\"position\":\"F\",\"team_id\":29,\"weight_pounds\":216},\"pts\":16,\"reb\":3,\"stl\":1,\"team\":{\"id\":29,\"abbreviation\":\"UTA\",\"city\":\"Utah\",\"conference\":\"West\",\"division\":\"Northwest\",\"full_name\":\"Utah Jazz\",\"name\":\"Jazz\"},\"turnover\":0},{\"id\":1452056,\"ast\":0,\"blk\":1,\"dreb\":2,\"fg3_pct\":0.0,\"fg3a\":0,\"fg3m\":0,\"fg_pct\":100.0,\"fga\":1,\"fgm\":1,\"ft_pct\":0.0,\"fta\":0,\"ftm\":0,\"game\":{\"id\":62596,\"date\":\"2019-10-23T00:00:00.000Z\",\"home_team_id\":29,\"home_team_score\":100,\"period\":4,\"postseason\":false,\"season\":2019,\"status\":\"Final\",\"time\":\"     \",\"visitor_team_id\":21,\"visitor_team_score\":95},\"min\":\"4:41\",\"oreb\":0,\"pf\":0,\"player\":{\"id\":345,\"first_name\":\"Nerlens\",\"height_feet\":6,\"height_inches\":11,\"last_name\":\"Noel\",\"position\":\"F-C\",\"team_id\":21,\"weight_pounds\":220},\"pts\":2,\"reb\":2,\"stl\":0,\"team\":{\"id\":21,\"abbreviation\":\"OKC\",\"city\":\"Oklahoma City\",\"conference\":\"West\",\"division\":\"Northwest\",\"full_name\":\"Oklahoma City Thunder\",\"name\":\"Thunder\"},\"turnover\":0},{\"id\":1452054,\"ast\":4,\"blk\":0,\"dreb\":5,\"fg3_pct\":33.3,\"fg3a\":3,\"fg3m\":1,\"fg_pct\":12.5,\"fga\":8,\"fgm\":1,\"ft_pct\":0.0,\"fta\":0,\"ftm\":0,\"game\":{\"id\":62596,\"date\":\"2019-10-23T00:00:00.000Z\",\"home_team_id\":29,\"home_team_score\":100,\"period\":4,\"postseason\":false,\"season\":2019,\"status\":\"Final\",\"time\":\"     \",\"visitor_team_id\":21,\"visitor_team_score\":95},\"min\":\"30:40\",\"oreb\":1,\"pf\":2,\"player\":{\"id\":409,\"first_name\":\"Dennis\",\"height_feet\":6,\"height_inches\":1,\"last_name\":\"Schroder\",\"position\":\"G\",\"team_id\":21,\"weight_pounds\":172},\"pts\":3,\"reb\":6,\"stl\":0,\"team\":{\"id\":21,\"abbreviation\":\"OKC\",\"city\":\"Oklahoma City\",\"conference\":\"West\",\"division\":\"Northwest\",\"full_name\":\"Oklahoma City Thunder\",\"name\":\"Thunder\"},\"turnover\":2},{\"id\":1452058,\"ast\":2,\"blk\":2,\"dreb\":4,\"fg3_pct\":0.0,\"fg3a\":3,\"fg3m\":0,\"fg_pct\":0.0,\"fga\":4,\"fgm\":0,\"ft_pct\":100.0,\"fta\":4,\"ftm\":4,\"game\":{\"id\":62596,\"date\":\"2019-10-23T00:00:00.000Z\",\"home_team_id\":29,\"home_team_score\":100,\"period\":4,\"postseason\":false,\"season\":2019,\"status\":\"Final\",\"time\":\"     \",\"visitor_team_id\":21,\"visitor_team_score\":95},\"min\":\"15:36\",\"oreb\":0,\"pf\":2,\"player\":{\"id\":337,\"first_name\":\"Mike\",\"height_feet\":6,\"height_inches\":11,\"last_name\":\"Muscala\",\"position\":\"F-C\",\"team_id\":21,\"weight_pounds\":240},\"pts\":4,\"reb\":4,\"stl\":0,\"team\":{\"id\":21,\"abbreviation\":\"OKC\",\"city\":\"Oklahoma City\",\"conference\":\"West\",\"division\":\"Northwest\",\"full_name\":\"Oklahoma City Thunder\",\"name\":\"Thunder\"},\"turnover\":1},{\"id\":1452064,\"ast\":0,\"blk\":1,\"dreb\":11,\"fg3_pct\":0.0,\"fg3a\":0,\"fg3m\":0,\"fg_pct\":50.0,\"fga\":6,\"fgm\":3,\"ft_pct\":33.3,\"fta\":3,\"ftm\":1,\"game\":{\"id\":62596,\"date\":\"2019-10-23T00:00:00.000Z\",\"home_team_id\":29,\"home_team_score\":100,\"period\":4,\"postseason\":false,\"season\":2019,\"status\":\"Final\",\"time\":\"     \",\"visitor_team_id\":21,\"visitor_team_score\":95},\"min\":\"37:55\",\"oreb\":3,\"pf\":5,\"player\":{\"id\":176,\"first_name\":\"Rudy\",\"height_feet\":7,\"height_inches\":1,\"last_name\":\"Gobert\",\"position\":\"C\",\"team_id\":29,\"weight_pounds\":245},\"pts\":7,\"reb\":14,\"stl\":0,\"team\":{\"id\":29,\"abbreviation\":\"UTA\",\"city\":\"Utah\",\"conference\":\"West\",\"division\":\"Northwest\",\"full_name\":\"Utah Jazz\",\"name\":\"Jazz\"},\"turnover\":4},{\"id\":1452051,\"ast\":2,\"blk\":0,\"dreb\":8,\"fg3_pct\":0.0,\"fg3a\":0,\"fg3m\":0,\"fg_pct\":12.5,\"fga\":8,\"fgm\":1,\"ft_pct\":16.7,\"fta\":6,\"ftm\":1,\"game\":{\"id\":62596,\"date\":\"2019-10-23T00:00:00.000Z\",\"home_team_id\":29,\"home_team_score\":100,\"period\":4,\"postseason\":false,\"season\":2019,\"status\":\"Final\",\"time\":\"     \",\"visitor_team_id\":21,\"visitor_team_score\":95},\"min\":\"27:42\",\"oreb\":3,\"pf\":4,\"player\":{\"id\":3,\"first_name\":\"Steven\",\"height_feet\":7,\"height_inches\":0,\"last_name\":\"Adams\",\"position\":\"C\",\"team_id\":21,\"weight_pounds\":265},\"pts\":3,\"reb\":11,\"stl\":1,\"team\":{\"id\":21,\"abbreviation\":\"OKC\",\"city\":\"Oklahoma City\",\"conference\":\"West\",\"division\":\"Northwest\",\"full_name\":\"Oklahoma City Thunder\",\"name\":\"Thunder\"},\"turnover\":2},{\"id\":1452067,\"ast\":1,\"blk\":0,\"dreb\":4,\"fg3_pct\":25.0,\"fg3a\":4,\"fg3m\":1,\"fg_pct\":37.5,\"fga\":8,\"fgm\":3,\"ft_pct\":0.0,\"fta\":0,\"ftm\":0,\"game\":{\"id\":62596,\"date\":\"2019-10-23T00:00:00.000Z\",\"home_team_id\":29,\"home_team_score\":100,\"period\":4,\"postseason\":false,\"season\":2019,\"status\":\"Final\",\"time\":\"     \",\"visitor_team_id\":21,\"visitor_team_score\":95},\"min\":\"32:39\",\"oreb\":0,\"pf\":2,\"player\":{\"id\":226,\"first_name\":\"Joe\",\"height_feet\":6,\"height_inches\":8,\"last_name\":\"Ingles\",\"position\":\"F\",\"team_id\":29,\"weight_pounds\":226},\"pts\":7,\"reb\":4,\"stl\":0,\"team\":{\"id\":29,\"abbreviation\":\"UTA\",\"city\":\"Utah\",\"conference\":\"West\",\"division\":\"Northwest\",\"full_name\":\"Utah Jazz\",\"name\":\"Jazz\"},\"turnover\":1},{\"id\":1452068,\"ast\":5,\"blk\":1,\"dreb\":2,\"fg3_pct\":0.0,\"fg3a\":1,\"fg3m\":0,\"fg_pct\":54.5,\"fga\":11,\"fgm\":6,\"ft_pct\":0.0,\"fta\":0,\"ftm\":0,\"game\":{\"id\":62596,\"date\":\"2019-10-23T00:00:00.000Z\",\"home_team_id\":29,\"home_team_score\":100,\"period\":4,\"postseason\":false,\"season\":2019,\"status\":\"Final\",\"time\":\"     \",\"visitor_team_id\":21,\"visitor_team_score\":95},\"min\":\"22:59\",\"oreb\":0,\"pf\":2,\"player\":{\"id\":333,\"first_name\":\"Emmanuel\",\"height_feet\":6,\"height_inches\":5,\"last_name\":\"Mudiay\",\"position\":\"G\",\"team_id\":29,\"weight_pounds\":200},\"pts\":12,\"reb\":2,\"stl\":0,\"team\":{\"id\":29,\"abbreviation\":\"UTA\",\"city\":\"Utah\",\"conference\":\"West\",\"division\":\"Northwest\",\"full_name\":\"Utah Jazz\",\"name\":\"Jazz\"},\"turnover\":0},{\"id\":1452063,\"ast\":0,\"blk\":0,\"dreb\":5,\"fg3_pct\":100.0,\"fg3a\":2,\"fg3m\":2,\"fg_pct\":100.0,\"fga\":6,\"fgm\":6,\"ft_pct\":0.0,\"fta\":0,\"ftm\":0,\"game\":{\"id\":62596,\"date\":\"2019-10-23T00:00:00.000Z\",\"home_team_id\":29,\"home_team_score\":100,\"period\":4,\"postseason\":false,\"season\":2019,\"status\":\"Final\",\"time\":\"     \",\"visitor_team_id\":21,\"visitor_team_score\":95},\"min\":\"30:06\",\"oreb\":0,\"pf\":4,\"player\":{\"id\":351,\"first_name\":\"Royce\",\"height_feet\":6,\"height_inches\":6,\"last_name\":\"O'Neale\",\"position\":\"F\",\"team_id\":29,\"weight_pounds\":226},\"pts\":14,\"reb\":5,\"stl\":1,\"team\":{\"id\":29,\"abbreviation\":\"UTA\",\"city\":\"Utah\",\"conference\":\"West\",\"division\":\"Northwest\",\"full_name\":\"Utah Jazz\",\"name\":\"Jazz\"},\"turnover\":1},{\"id\":1452073,\"ast\":0,\"blk\":0,\"dreb\":1,\"fg3_pct\":0.0,\"fg3a\":0,\"fg3m\":0,\"fg_pct\":0.0,\"fga\":0,\"fgm\":0,\"ft_pct\":0.0,\"fta\":0,\"ftm\":0,\"game\":{\"id\":62596,\"date\":\"2019-10-23T00:00:00.000Z\",\"home_team_id\":29,\"home_team_score\":100,\"period\":4,\"postseason\":false,\"season\":2019,\"status\":\"Final\",\"time\":\"     \",\"visitor_team_id\":21,\"visitor_team_score\":95},\"min\":\"2:40\",\"oreb\":0,\"pf\":0,\"player\":{\"id\":344,\"first_name\":\"Georges\",\"height_feet\":6,\"height_inches\":8,\"last_name\":\"Niang\",\"position\":\"F\",\"team_id\":29,\"weight_pounds\":230},\"pts\":0,\"reb\":1,\"stl\":0,\"team\":{\"id\":29,\"abbreviation\":\"UTA\",\"city\":\"Utah\",\"conference\":\"West\",\"division\":\"Northwest\",\"full_name\":\"Utah Jazz\",\"name\":\"Jazz\"},\"turnover\":0},{\"id\":1452060,\"ast\":0,\"blk\":0,\"dreb\":0,\"fg3_pct\":0.0,\"fg3a\":0,\"fg3m\":0,\"fg_pct\":0.0,\"fga\":0,\"fgm\":0,\"ft_pct\":0.0,\"fta\":0,\"ftm\":0,\"game\":{\"id\":62596,\"date\":\"2019-10-23T00:00:00.000Z\",\"home_team_id\":29,\"home_team_score\":100,\"period\":4,\"postseason\":false,\"season\":2019,\"status\":\"Final\",\"time\":\"     \",\"visitor_team_id\":21,\"visitor_team_score\":95},\"min\":\"0:00\",\"oreb\":0,\"pf\":0,\"player\":{\"id\":339,\"first_name\":\"Abdel\",\"height_feet\":6,\"height_inches\":6,\"last_name\":\"Nader\",\"position\":\"F\",\"team_id\":21,\"weight_pounds\":225},\"pts\":0,\"reb\":0,\"stl\":0,\"team\":{\"id\":21,\"abbreviation\":\"OKC\",\"city\":\"Oklahoma City\",\"conference\":\"West\",\"division\":\"Northwest\",\"full_name\":\"Oklahoma City Thunder\",\"name\":\"Thunder\"},\"turnover\":0},{\"id\":1452065,\"ast\":3,\"blk\":0,\"dreb\":7,\"fg3_pct\":33.3,\"fg3a\":3,\"fg3m\":1,\"fg_pct\":63.6,\"fga\":22,\"fgm\":14,\"ft_pct\":75.0,\"fta\":4,\"ftm\":3,\"game\":{\"id\":62596,\"date\":\"2019-10-23T00:00:00.000Z\",\"home_team_id\":29,\"home_team_score\":100,\"period\":4,\"postseason\":false,\"season\":2019,\"status\":\"Final\",\"time\":\"     \",\"visitor_team_id\":21,\"visitor_team_score\":95},\"min\":\"36:24\",\"oreb\":5,\"pf\":4,\"player\":{\"id\":322,\"first_name\":\"Donovan\",\"height_feet\":6,\"height_inches\":3,\"last_name\":\"Mitchell\",\"position\":\"G\",\"team_id\":29,\"weight_pounds\":215},\"pts\":32,\"reb\":12,\"stl\":1,\"team\":{\"id\":29,\"abbreviation\":\"UTA\",\"city\":\"Utah\",\"conference\":\"West\",\"division\":\"Northwest\",\"full_name\":\"Utah Jazz\",\"name\":\"Jazz\"},\"turnover\":1},{\"id\":1452061,\"ast\":0,\"blk\":0,\"dreb\":0,\"fg3_pct\":0.0,\"fg3a\":0,\"fg3m\":0,\"fg_pct\":0.0,\"fga\":0,\"fgm\":0,\"ft_pct\":0.0,\"fta\":0,\"ftm\":0,\"game\":{\"id\":62596,\"date\":\"2019-10-23T00:00:00.000Z\",\"home_team_id\":29,\"home_team_score\":100,\"period\":4,\"postseason\":false,\"season\":2019,\"status\":\"Final\",\"time\":\"     \",\"visitor_team_id\":21,\"visitor_team_score\":95},\"min\":\"0:00\",\"oreb\":0,\"pf\":0,\"player\":{\"id\":366,\"first_name\":\"Justin\",\"height_feet\":7,\"height_inches\":0,\"last_name\":\"Patton\",\"position\":\"C\",\"team_id\":9,\"weight_pounds\":241},\"pts\":0,\"reb\":0,\"stl\":0,\"team\":{\"id\":21,\"abbreviation\":\"OKC\",\"city\":\"Oklahoma City\",\"conference\":\"West\",\"division\":\"Northwest\",\"full_name\":\"Oklahoma City Thunder\",\"name\":\"Thunder\"},\"turnover\":0},{\"id\":1452049,\"ast\":1,\"blk\":0,\"dreb\":1,\"fg3_pct\":0.0,\"fg3a\":0,\"fg3m\":0,\"fg_pct\":0.0,\"fga\":0,\"fgm\":0,\"ft_pct\":100.0,\"fta\":2,\"ftm\":2,\"game\":{\"id\":62596,\"date\":\"2019-10-23T00:00:00.000Z\",\"home_team_id\":29,\"home_team_score\":100,\"period\":4,\"postseason\":false,\"season\":2019,\"status\":\"Final\",\"time\":\"     \",\"visitor_team_id\":21,\"visitor_team_score\":95},\"min\":\"23:51\",\"oreb\":1,\"pf\":2,\"player\":{\"id\":156,\"first_name\":\"Terrance\",\"height_feet\":6,\"height_inches\":7,\"last_name\":\"Ferguson\",\"position\":\"G\",\"team_id\":21,\"weight_pounds\":190},\"pts\":2,\"reb\":2,\"stl\":0,\"team\":{\"id\":21,\"abbreviation\":\"OKC\",\"city\":\"Oklahoma City\",\"conference\":\"West\",\"division\":\"Northwest\",\"full_name\":\"Oklahoma City Thunder\",\"name\":\"Thunder\"},\"turnover\":1},{\"id\":1452071,\"ast\":0,\"blk\":0,\"dreb\":0,\"fg3_pct\":0.0,\"fg3a\":0,\"fg3m\":0,\"fg_pct\":0.0,\"fga\":0,\"fgm\":0,\"ft_pct\":0.0,\"fta\":0,\"ftm\":0,\"game\":{\"id\":62596,\"date\":\"2019-10-23T00:00:00.000Z\",\"home_team_id\":29,\"home_team_score\":100,\"period\":4,\"postseason\":false,\"season\":2019,\"status\":\"Final\",\"time\":\"     \",\"visitor_team_id\":21,\"visitor_team_score\":95},\"min\":\"0:00\",\"oreb\":0,\"pf\":0,\"player\":{\"id\":60,\"first_name\":\"Tony\",\"height_feet\":6,\"height_inches\":10,\"last_name\":\"Bradley\",\"position\":\"C\",\"team_id\":29,\"weight_pounds\":248},\"pts\":0,\"reb\":0,\"stl\":0,\"team\":{\"id\":29,\"abbreviation\":\"UTA\",\"city\":\"Utah\",\"conference\":\"West\",\"division\":\"Northwest\",\"full_name\":\"Utah Jazz\",\"name\":\"Jazz\"},\"turnover\":0},{\"id\":1452074,\"ast\":0,\"blk\":0,\"dreb\":0,\"fg3_pct\":0.0,\"fg3a\":0,\"fg3m\":0,\"fg_pct\":0.0,\"fga\":0,\"fgm\":0,\"ft_pct\":0.0,\"fta\":0,\"ftm\":0,\"game\":{\"id\":62596,\"date\":\"2019-10-23T00:00:00.000Z\",\"home_team_id\":29,\"home_team_score\":100,\"period\":4,\"postseason\":false,\"season\":2019,\"status\":\"Final\",\"time\":\"     \",\"visitor_team_id\":21,\"visitor_team_score\":95},\"min\":\"0:00\",\"oreb\":0,\"pf\":0,\"player\":{\"id\":666963,\"first_name\":\"Nigel\",\"height_feet\":null,\"height_inches\":null,\"last_name\":\"Williams-Goss\",\"position\":\"G\",\"team_id\":29,\"weight_pounds\":null},\"pts\":0,\"reb\":0,\"stl\":0,\"team\":{\"id\":29,\"abbreviation\":\"UTA\",\"city\":\"Utah\",\"conference\":\"West\",\"division\":\"Northwest\",\"full_name\":\"Utah Jazz\",\"name\":\"Jazz\"},\"turnover\":0},{\"id\":1452057,\"ast\":0,\"blk\":0,\"dreb\":2,\"fg3_pct\":0.0,\"fg3a\":1,\"fg3m\":0,\"fg_pct\":62.5,\"fga\":8,\"fgm\":5,\"ft_pct\":50.0,\"fta\":4,\"ftm\":2,\"game\":{\"id\":62596,\"date\":\"2019-10-23T00:00:00.000Z\",\"home_team_id\":29,\"home_team_score\":100,\"period\":4,\"postseason\":false,\"season\":2019,\"status\":\"Final\",\"time\":\"     \",\"visitor_team_id\":21,\"visitor_team_score\":95},\"min\":\"23:00\",\"oreb\":1,\"pf\":3,\"player\":{\"id\":128,\"first_name\":\"Hamidou\",\"height_feet\":6,\"height_inches\":5,\"last_name\":\"Diallo\",\"position\":\"G\",\"team_id\":21,\"weight_pounds\":198},\"pts\":12,\"reb\":3,\"stl\":1,\"team\":{\"id\":21,\"abbreviation\":\"OKC\",\"city\":\"Oklahoma City\",\"conference\":\"West\",\"division\":\"Northwest\",\"full_name\":\"Oklahoma City Thunder\",\"name\":\"Thunder\"},\"turnover\":3},{\"id\":1452052,\"ast\":1,\"blk\":0,\"dreb\":2,\"fg3_pct\":42.9,\"fg3a\":7,\"fg3m\":3,\"fg_pct\":43.5,\"fga\":23,\"fgm\":10,\"ft_pct\":50.0,\"fta\":6,\"ftm\":3,\"game\":{\"id\":62596,\"date\":\"2019-10-23T00:00:00.000Z\",\"home_team_id\":29,\"home_team_score\":100,\"period\":4,\"postseason\":false,\"season\":2019,\"status\":\"Final\",\"time\":\"     \",\"visitor_team_id\":21,\"visitor_team_score\":95},\"min\":\"36:46\",\"oreb\":0,\"pf\":2,\"player\":{\"id\":175,\"first_name\":\"Shai\",\"height_feet\":6,\"height_inches\":6,\"last_name\":\"Gilgeous-Alexander\",\"position\":\"G\",\"team_id\":21,\"weight_pounds\":181},\"pts\":26,\"reb\":2,\"stl\":1,\"team\":{\"id\":21,\"abbreviation\":\"OKC\",\"city\":\"Oklahoma City\",\"conference\":\"West\",\"division\":\"Northwest\",\"full_name\":\"Oklahoma City Thunder\",\"name\":\"Thunder\"},\"turnover\":1}],\"meta\":{\"total_pages\":283,\"current_page\":1,\"next_page\":2,\"per_page\":100,\"total_count\":28233}}\n"
     ]
    }
   ],
   "source": [
    "url = \"https://free-nba.p.rapidapi.com/stats?seasons[]=2019\"\n",
    "\n",
    "querystring = {\"page\":\"0\",\"per_page\":\"200\"}\n",
    "\n",
    "headers = {\n",
    "    'x-rapidapi-host': \"free-nba.p.rapidapi.com\",\n",
    "    'x-rapidapi-key': \"38d64eff57msh466e4e8e29e6a52p1a2fb0jsnab2f85994546\"\n",
    "    }\n",
    "\n",
    "response = requests.get(url, headers=headers, params=querystring)\n",
    "\n",
    "print(response.text)\n",
    "data = response.json()"
   ]
  },
  {
   "cell_type": "code",
   "execution_count": 5,
   "metadata": {},
   "outputs": [
    {
     "data": {
      "text/plain": [
       "{'id': 1448930,\n",
       " 'ast': 8,\n",
       " 'blk': 1,\n",
       " 'dreb': 8,\n",
       " 'fg3_pct': 20.0,\n",
       " 'fg3a': 5,\n",
       " 'fg3m': 1,\n",
       " 'fg_pct': 36.8,\n",
       " 'fga': 19,\n",
       " 'fgm': 7,\n",
       " 'ft_pct': 75.0,\n",
       " 'fta': 4,\n",
       " 'ftm': 3,\n",
       " 'game': {'id': 62585,\n",
       "  'date': '2019-10-22T00:00:00.000Z',\n",
       "  'home_team_id': 13,\n",
       "  'home_team_score': 112,\n",
       "  'period': 4,\n",
       "  'postseason': False,\n",
       "  'season': 2019,\n",
       "  'status': 'Final',\n",
       "  'time': '     ',\n",
       "  'visitor_team_id': 14,\n",
       "  'visitor_team_score': 102},\n",
       " 'min': '36:00',\n",
       " 'oreb': 1,\n",
       " 'pf': 3,\n",
       " 'player': {'id': 237,\n",
       "  'first_name': 'LeBron',\n",
       "  'height_feet': 6,\n",
       "  'height_inches': 8,\n",
       "  'last_name': 'James',\n",
       "  'position': 'F',\n",
       "  'team_id': 14,\n",
       "  'weight_pounds': 250},\n",
       " 'pts': 18,\n",
       " 'reb': 9,\n",
       " 'stl': 1,\n",
       " 'team': {'id': 14,\n",
       "  'abbreviation': 'LAL',\n",
       "  'city': 'Los Angeles',\n",
       "  'conference': 'West',\n",
       "  'division': 'Pacific',\n",
       "  'full_name': 'Los Angeles Lakers',\n",
       "  'name': 'Lakers'},\n",
       " 'turnover': 5}"
      ]
     },
     "execution_count": 5,
     "metadata": {},
     "output_type": "execute_result"
    }
   ],
   "source": [
    "data[\"data\"][0]\n"
   ]
  },
  {
   "cell_type": "markdown",
   "metadata": {},
   "source": [
    "- De la consulta anterior sabemos que tenemos 283 páginas, cada una con 100 registros por página por lo que iteramos y almacenamos en listas los valores"
   ]
  },
  {
   "cell_type": "code",
   "execution_count": null,
   "metadata": {},
   "outputs": [],
   "source": [
    "blk = []\n",
    "stl = []\n",
    "for i in range(284):\n",
    "    #print(i)\n",
    "    url = \"https://free-nba.p.rapidapi.com/stats?seasons[]=2019\"\n",
    "\n",
    "    querystring = {\"page\":\"{i}\",\"per_page\":\"100\"}\n",
    "\n",
    "    headers = {'x-rapidapi-host': \"free-nba.p.rapidapi.com\",\n",
    "               'x-rapidapi-key': \"38d64eff57msh466e4e8e29e6a52p1a2fb0jsnab2f85994546\"}\n",
    "\n",
    "    res = requests.get(url, headers=headers, params=querystring)\n",
    "    data = response.json()\n",
    "    \n",
    "    for i in data[\"data\"]:\n",
    "        #players.append(f'{i[\"player\"][\"first_name\"]} , {i[\"player\"][\"last_name\"]}')\n",
    "        blk.append(f'{i[\"blk\"]}')\n",
    "        stl.append(f'{i[\"stl\"]}')\n",
    "        "
   ]
  },
  {
   "cell_type": "code",
   "execution_count": null,
   "metadata": {},
   "outputs": [],
   "source": [
    "players = []\n",
    "\n",
    "for i in range(284):\n",
    "    #print(i)\n",
    "    url = \"https://free-nba.p.rapidapi.com/stats?seasons[]=2019\"\n",
    "\n",
    "    querystring = {\"page\":\"{i}\",\"per_page\":\"100\"}\n",
    "\n",
    "    headers = {'x-rapidapi-host': \"free-nba.p.rapidapi.com\",\n",
    "               'x-rapidapi-key': \"38d64eff57msh466e4e8e29e6a52p1a2fb0jsnab2f85994546\"}\n",
    "\n",
    "    res = requests.get(url, headers=headers, params=querystring)\n",
    "    data = response.json()\n",
    "    \n",
    "    for i in data[\"data\"]:\n",
    "        players.append(f'{i[\"player\"][\"first_name\"]} , {i[\"player\"][\"last_name\"]}')\n",
    "        "
   ]
  },
  {
   "cell_type": "code",
   "execution_count": 10,
   "metadata": {},
   "outputs": [
    {
     "name": "stdout",
     "output_type": "stream",
     "text": [
      "28400\n",
      "28400\n",
      "28400\n"
     ]
    }
   ],
   "source": [
    "print(len(players))\n",
    "print(len(blk))\n",
    "print(len(stl))"
   ]
  },
  {
   "cell_type": "markdown",
   "metadata": {},
   "source": [
    "- Generamos df con los resultados de la consuta para luego megearlo con nuestro df"
   ]
  },
  {
   "cell_type": "code",
   "execution_count": 135,
   "metadata": {},
   "outputs": [
    {
     "data": {
      "text/html": [
       "<div>\n",
       "<style scoped>\n",
       "    .dataframe tbody tr th:only-of-type {\n",
       "        vertical-align: middle;\n",
       "    }\n",
       "\n",
       "    .dataframe tbody tr th {\n",
       "        vertical-align: top;\n",
       "    }\n",
       "\n",
       "    .dataframe thead th {\n",
       "        text-align: right;\n",
       "    }\n",
       "</style>\n",
       "<table border=\"1\" class=\"dataframe\">\n",
       "  <thead>\n",
       "    <tr style=\"text-align: right;\">\n",
       "      <th></th>\n",
       "      <th>player</th>\n",
       "      <th>blk</th>\n",
       "      <th>stl</th>\n",
       "    </tr>\n",
       "  </thead>\n",
       "  <tbody>\n",
       "    <tr>\n",
       "      <th>0</th>\n",
       "      <td>LeBron , James</td>\n",
       "      <td>1</td>\n",
       "      <td>1</td>\n",
       "    </tr>\n",
       "    <tr>\n",
       "      <th>1</th>\n",
       "      <td>Dwight , Howard</td>\n",
       "      <td>1</td>\n",
       "      <td>0</td>\n",
       "    </tr>\n",
       "    <tr>\n",
       "      <th>2</th>\n",
       "      <td>Lou , Williams</td>\n",
       "      <td>0</td>\n",
       "      <td>1</td>\n",
       "    </tr>\n",
       "    <tr>\n",
       "      <th>3</th>\n",
       "      <td>Jared , Dudley</td>\n",
       "      <td>0</td>\n",
       "      <td>0</td>\n",
       "    </tr>\n",
       "    <tr>\n",
       "      <th>4</th>\n",
       "      <td>JaVale , McGee</td>\n",
       "      <td>2</td>\n",
       "      <td>0</td>\n",
       "    </tr>\n",
       "    <tr>\n",
       "      <th>5</th>\n",
       "      <td>Patrick , Beverley</td>\n",
       "      <td>1</td>\n",
       "      <td>0</td>\n",
       "    </tr>\n",
       "    <tr>\n",
       "      <th>6</th>\n",
       "      <td>Danny , Green</td>\n",
       "      <td>1</td>\n",
       "      <td>2</td>\n",
       "    </tr>\n",
       "    <tr>\n",
       "      <th>7</th>\n",
       "      <td>Patrick , Patterson</td>\n",
       "      <td>0</td>\n",
       "      <td>0</td>\n",
       "    </tr>\n",
       "    <tr>\n",
       "      <th>8</th>\n",
       "      <td>Avery , Bradley</td>\n",
       "      <td>0</td>\n",
       "      <td>0</td>\n",
       "    </tr>\n",
       "    <tr>\n",
       "      <th>9</th>\n",
       "      <td>Kawhi , Leonard</td>\n",
       "      <td>1</td>\n",
       "      <td>2</td>\n",
       "    </tr>\n",
       "  </tbody>\n",
       "</table>\n",
       "</div>"
      ],
      "text/plain": [
       "                player blk stl\n",
       "0       LeBron , James   1   1\n",
       "1      Dwight , Howard   1   0\n",
       "2       Lou , Williams   0   1\n",
       "3       Jared , Dudley   0   0\n",
       "4       JaVale , McGee   2   0\n",
       "5   Patrick , Beverley   1   0\n",
       "6        Danny , Green   1   2\n",
       "7  Patrick , Patterson   0   0\n",
       "8      Avery , Bradley   0   0\n",
       "9      Kawhi , Leonard   1   2"
      ]
     },
     "execution_count": 135,
     "metadata": {},
     "output_type": "execute_result"
    }
   ],
   "source": [
    "df_req = pd.DataFrame.from_dict({\"player\": players, \"blk\": blk, \"stl\": stl})\n",
    "df_req.head(10)"
   ]
  },
  {
   "cell_type": "code",
   "execution_count": 30,
   "metadata": {},
   "outputs": [
    {
     "data": {
      "text/plain": [
       "100"
      ]
     },
     "execution_count": 30,
     "metadata": {},
     "output_type": "execute_result"
    }
   ],
   "source": [
    "len(df_req.player.unique())"
   ]
  },
  {
   "cell_type": "code",
   "execution_count": 47,
   "metadata": {},
   "outputs": [],
   "source": [
    "df_req[\"blk\"] = df_req.blk.apply(lambda x: int(x))\n",
    "df_req[\"stl\"] = df_req.stl.apply(lambda x: int(x))\n",
    "df_req[\"player\"] = df_req.player.apply(lambda x: x.replace(\" , \", \" \"))"
   ]
  },
  {
   "cell_type": "code",
   "execution_count": 56,
   "metadata": {},
   "outputs": [
    {
     "name": "stderr",
     "output_type": "stream",
     "text": [
      "/usr/local/lib/python3.7/site-packages/ipykernel_launcher.py:1: FutureWarning: Indexing with multiple keys (implicitly converted to a tuple of keys) will be deprecated, use a list instead.\n",
      "  \"\"\"Entry point for launching an IPython kernel.\n"
     ]
    },
    {
     "data": {
      "text/html": [
       "<div>\n",
       "<style scoped>\n",
       "    .dataframe tbody tr th:only-of-type {\n",
       "        vertical-align: middle;\n",
       "    }\n",
       "\n",
       "    .dataframe tbody tr th {\n",
       "        vertical-align: top;\n",
       "    }\n",
       "\n",
       "    .dataframe thead th {\n",
       "        text-align: right;\n",
       "    }\n",
       "</style>\n",
       "<table border=\"1\" class=\"dataframe\">\n",
       "  <thead>\n",
       "    <tr style=\"text-align: right;\">\n",
       "      <th></th>\n",
       "      <th>blk</th>\n",
       "      <th>stl</th>\n",
       "    </tr>\n",
       "    <tr>\n",
       "      <th>player</th>\n",
       "      <th></th>\n",
       "      <th></th>\n",
       "    </tr>\n",
       "  </thead>\n",
       "  <tbody>\n",
       "    <tr>\n",
       "      <th>Abdel Nader</th>\n",
       "      <td>0</td>\n",
       "      <td>0</td>\n",
       "    </tr>\n",
       "    <tr>\n",
       "      <th>Alex Caruso</th>\n",
       "      <td>0</td>\n",
       "      <td>0</td>\n",
       "    </tr>\n",
       "    <tr>\n",
       "      <th>Alex Len</th>\n",
       "      <td>1</td>\n",
       "      <td>2</td>\n",
       "    </tr>\n",
       "    <tr>\n",
       "      <th>Andre Drummond</th>\n",
       "      <td>1</td>\n",
       "      <td>4</td>\n",
       "    </tr>\n",
       "    <tr>\n",
       "      <th>Anfernee Simons</th>\n",
       "      <td>0</td>\n",
       "      <td>2</td>\n",
       "    </tr>\n",
       "  </tbody>\n",
       "</table>\n",
       "</div>"
      ],
      "text/plain": [
       "                 blk  stl\n",
       "player                   \n",
       "Abdel Nader        0    0\n",
       "Alex Caruso        0    0\n",
       "Alex Len           1    2\n",
       "Andre Drummond     1    4\n",
       "Anfernee Simons    0    2"
      ]
     },
     "execution_count": 56,
     "metadata": {},
     "output_type": "execute_result"
    }
   ],
   "source": [
    "df_req = df_req.groupby(\"player\")[\"blk\", \"stl\"].mean()\n",
    "df_req.head()"
   ]
  },
  {
   "cell_type": "markdown",
   "metadata": {},
   "source": [
    "- Cuando ya tenemos los datos en el formato que necesitamos, cargamos el dataframe original"
   ]
  },
  {
   "cell_type": "markdown",
   "metadata": {},
   "source": [
    "## Cargamos el dataframe del proyecto"
   ]
  },
  {
   "cell_type": "code",
   "execution_count": 57,
   "metadata": {},
   "outputs": [
    {
     "data": {
      "text/html": [
       "<div>\n",
       "<style scoped>\n",
       "    .dataframe tbody tr th:only-of-type {\n",
       "        vertical-align: middle;\n",
       "    }\n",
       "\n",
       "    .dataframe tbody tr th {\n",
       "        vertical-align: top;\n",
       "    }\n",
       "\n",
       "    .dataframe thead th {\n",
       "        text-align: right;\n",
       "    }\n",
       "</style>\n",
       "<table border=\"1\" class=\"dataframe\">\n",
       "  <thead>\n",
       "    <tr style=\"text-align: right;\">\n",
       "      <th></th>\n",
       "      <th>Unnamed: 0</th>\n",
       "      <th>player_name</th>\n",
       "      <th>team_abbreviation</th>\n",
       "      <th>age</th>\n",
       "      <th>player_height</th>\n",
       "      <th>player_weight</th>\n",
       "      <th>college</th>\n",
       "      <th>country</th>\n",
       "      <th>draft_year</th>\n",
       "      <th>draft_round</th>\n",
       "      <th>...</th>\n",
       "      <th>pts</th>\n",
       "      <th>reb</th>\n",
       "      <th>ast</th>\n",
       "      <th>net_rating</th>\n",
       "      <th>oreb_pct</th>\n",
       "      <th>dreb_pct</th>\n",
       "      <th>usg_pct</th>\n",
       "      <th>ts_pct</th>\n",
       "      <th>ast_pct</th>\n",
       "      <th>season</th>\n",
       "    </tr>\n",
       "  </thead>\n",
       "  <tbody>\n",
       "    <tr>\n",
       "      <th>0</th>\n",
       "      <td>0</td>\n",
       "      <td>Dennis Rodman</td>\n",
       "      <td>CHI</td>\n",
       "      <td>36.0</td>\n",
       "      <td>198.12</td>\n",
       "      <td>99.790240</td>\n",
       "      <td>Southeastern Oklahoma State</td>\n",
       "      <td>USA</td>\n",
       "      <td>1986</td>\n",
       "      <td>2</td>\n",
       "      <td>...</td>\n",
       "      <td>5.7</td>\n",
       "      <td>16.1</td>\n",
       "      <td>3.1</td>\n",
       "      <td>16.1</td>\n",
       "      <td>0.186</td>\n",
       "      <td>0.323</td>\n",
       "      <td>0.100</td>\n",
       "      <td>0.479</td>\n",
       "      <td>0.113</td>\n",
       "      <td>1996-97</td>\n",
       "    </tr>\n",
       "    <tr>\n",
       "      <th>1</th>\n",
       "      <td>1</td>\n",
       "      <td>Dwayne Schintzius</td>\n",
       "      <td>LAC</td>\n",
       "      <td>28.0</td>\n",
       "      <td>215.90</td>\n",
       "      <td>117.933920</td>\n",
       "      <td>Florida</td>\n",
       "      <td>USA</td>\n",
       "      <td>1990</td>\n",
       "      <td>1</td>\n",
       "      <td>...</td>\n",
       "      <td>2.3</td>\n",
       "      <td>1.5</td>\n",
       "      <td>0.3</td>\n",
       "      <td>12.3</td>\n",
       "      <td>0.078</td>\n",
       "      <td>0.151</td>\n",
       "      <td>0.175</td>\n",
       "      <td>0.430</td>\n",
       "      <td>0.048</td>\n",
       "      <td>1996-97</td>\n",
       "    </tr>\n",
       "    <tr>\n",
       "      <th>2</th>\n",
       "      <td>2</td>\n",
       "      <td>Earl Cureton</td>\n",
       "      <td>TOR</td>\n",
       "      <td>39.0</td>\n",
       "      <td>205.74</td>\n",
       "      <td>95.254320</td>\n",
       "      <td>Detroit Mercy</td>\n",
       "      <td>USA</td>\n",
       "      <td>1979</td>\n",
       "      <td>3</td>\n",
       "      <td>...</td>\n",
       "      <td>0.8</td>\n",
       "      <td>1.0</td>\n",
       "      <td>0.4</td>\n",
       "      <td>-2.1</td>\n",
       "      <td>0.105</td>\n",
       "      <td>0.102</td>\n",
       "      <td>0.103</td>\n",
       "      <td>0.376</td>\n",
       "      <td>0.148</td>\n",
       "      <td>1996-97</td>\n",
       "    </tr>\n",
       "    <tr>\n",
       "      <th>3</th>\n",
       "      <td>3</td>\n",
       "      <td>Ed O'Bannon</td>\n",
       "      <td>DAL</td>\n",
       "      <td>24.0</td>\n",
       "      <td>203.20</td>\n",
       "      <td>100.697424</td>\n",
       "      <td>UCLA</td>\n",
       "      <td>USA</td>\n",
       "      <td>1995</td>\n",
       "      <td>1</td>\n",
       "      <td>...</td>\n",
       "      <td>3.7</td>\n",
       "      <td>2.3</td>\n",
       "      <td>0.6</td>\n",
       "      <td>-8.7</td>\n",
       "      <td>0.060</td>\n",
       "      <td>0.149</td>\n",
       "      <td>0.167</td>\n",
       "      <td>0.399</td>\n",
       "      <td>0.077</td>\n",
       "      <td>1996-97</td>\n",
       "    </tr>\n",
       "    <tr>\n",
       "      <th>4</th>\n",
       "      <td>4</td>\n",
       "      <td>Ed Pinckney</td>\n",
       "      <td>MIA</td>\n",
       "      <td>34.0</td>\n",
       "      <td>205.74</td>\n",
       "      <td>108.862080</td>\n",
       "      <td>Villanova</td>\n",
       "      <td>USA</td>\n",
       "      <td>1985</td>\n",
       "      <td>1</td>\n",
       "      <td>...</td>\n",
       "      <td>2.4</td>\n",
       "      <td>2.4</td>\n",
       "      <td>0.2</td>\n",
       "      <td>-11.2</td>\n",
       "      <td>0.109</td>\n",
       "      <td>0.179</td>\n",
       "      <td>0.127</td>\n",
       "      <td>0.611</td>\n",
       "      <td>0.040</td>\n",
       "      <td>1996-97</td>\n",
       "    </tr>\n",
       "    <tr>\n",
       "      <th>5</th>\n",
       "      <td>5</td>\n",
       "      <td>Eddie Johnson</td>\n",
       "      <td>HOU</td>\n",
       "      <td>38.0</td>\n",
       "      <td>200.66</td>\n",
       "      <td>97.522280</td>\n",
       "      <td>Illinois</td>\n",
       "      <td>USA</td>\n",
       "      <td>1981</td>\n",
       "      <td>2</td>\n",
       "      <td>...</td>\n",
       "      <td>8.2</td>\n",
       "      <td>2.7</td>\n",
       "      <td>1.0</td>\n",
       "      <td>4.1</td>\n",
       "      <td>0.034</td>\n",
       "      <td>0.126</td>\n",
       "      <td>0.220</td>\n",
       "      <td>0.541</td>\n",
       "      <td>0.102</td>\n",
       "      <td>1996-97</td>\n",
       "    </tr>\n",
       "    <tr>\n",
       "      <th>6</th>\n",
       "      <td>6</td>\n",
       "      <td>Eddie Jones</td>\n",
       "      <td>LAL</td>\n",
       "      <td>25.0</td>\n",
       "      <td>198.12</td>\n",
       "      <td>86.182480</td>\n",
       "      <td>Temple</td>\n",
       "      <td>USA</td>\n",
       "      <td>1994</td>\n",
       "      <td>1</td>\n",
       "      <td>...</td>\n",
       "      <td>17.2</td>\n",
       "      <td>4.1</td>\n",
       "      <td>3.4</td>\n",
       "      <td>4.1</td>\n",
       "      <td>0.035</td>\n",
       "      <td>0.091</td>\n",
       "      <td>0.209</td>\n",
       "      <td>0.559</td>\n",
       "      <td>0.149</td>\n",
       "      <td>1996-97</td>\n",
       "    </tr>\n",
       "    <tr>\n",
       "      <th>7</th>\n",
       "      <td>7</td>\n",
       "      <td>Elden Campbell</td>\n",
       "      <td>LAL</td>\n",
       "      <td>28.0</td>\n",
       "      <td>213.36</td>\n",
       "      <td>113.398000</td>\n",
       "      <td>Clemson</td>\n",
       "      <td>USA</td>\n",
       "      <td>1990</td>\n",
       "      <td>1</td>\n",
       "      <td>...</td>\n",
       "      <td>14.9</td>\n",
       "      <td>8.0</td>\n",
       "      <td>1.6</td>\n",
       "      <td>3.3</td>\n",
       "      <td>0.095</td>\n",
       "      <td>0.183</td>\n",
       "      <td>0.222</td>\n",
       "      <td>0.520</td>\n",
       "      <td>0.087</td>\n",
       "      <td>1996-97</td>\n",
       "    </tr>\n",
       "    <tr>\n",
       "      <th>8</th>\n",
       "      <td>8</td>\n",
       "      <td>Eldridge Recasner</td>\n",
       "      <td>ATL</td>\n",
       "      <td>29.0</td>\n",
       "      <td>193.04</td>\n",
       "      <td>86.182480</td>\n",
       "      <td>Washington</td>\n",
       "      <td>USA</td>\n",
       "      <td>1992</td>\n",
       "      <td>Undrafted</td>\n",
       "      <td>...</td>\n",
       "      <td>5.7</td>\n",
       "      <td>1.6</td>\n",
       "      <td>1.3</td>\n",
       "      <td>-0.3</td>\n",
       "      <td>0.036</td>\n",
       "      <td>0.076</td>\n",
       "      <td>0.172</td>\n",
       "      <td>0.539</td>\n",
       "      <td>0.141</td>\n",
       "      <td>1996-97</td>\n",
       "    </tr>\n",
       "    <tr>\n",
       "      <th>9</th>\n",
       "      <td>9</td>\n",
       "      <td>Elliot Perry</td>\n",
       "      <td>MIL</td>\n",
       "      <td>28.0</td>\n",
       "      <td>182.88</td>\n",
       "      <td>72.574720</td>\n",
       "      <td>Memphis</td>\n",
       "      <td>USA</td>\n",
       "      <td>1991</td>\n",
       "      <td>2</td>\n",
       "      <td>...</td>\n",
       "      <td>6.9</td>\n",
       "      <td>1.5</td>\n",
       "      <td>3.0</td>\n",
       "      <td>-1.2</td>\n",
       "      <td>0.018</td>\n",
       "      <td>0.081</td>\n",
       "      <td>0.177</td>\n",
       "      <td>0.557</td>\n",
       "      <td>0.262</td>\n",
       "      <td>1996-97</td>\n",
       "    </tr>\n",
       "  </tbody>\n",
       "</table>\n",
       "<p>10 rows × 22 columns</p>\n",
       "</div>"
      ],
      "text/plain": [
       "   Unnamed: 0        player_name team_abbreviation   age  player_height  \\\n",
       "0           0      Dennis Rodman               CHI  36.0         198.12   \n",
       "1           1  Dwayne Schintzius               LAC  28.0         215.90   \n",
       "2           2       Earl Cureton               TOR  39.0         205.74   \n",
       "3           3        Ed O'Bannon               DAL  24.0         203.20   \n",
       "4           4        Ed Pinckney               MIA  34.0         205.74   \n",
       "5           5      Eddie Johnson               HOU  38.0         200.66   \n",
       "6           6        Eddie Jones               LAL  25.0         198.12   \n",
       "7           7     Elden Campbell               LAL  28.0         213.36   \n",
       "8           8  Eldridge Recasner               ATL  29.0         193.04   \n",
       "9           9       Elliot Perry               MIL  28.0         182.88   \n",
       "\n",
       "   player_weight                      college country draft_year draft_round  \\\n",
       "0      99.790240  Southeastern Oklahoma State     USA       1986           2   \n",
       "1     117.933920                      Florida     USA       1990           1   \n",
       "2      95.254320                Detroit Mercy     USA       1979           3   \n",
       "3     100.697424                         UCLA     USA       1995           1   \n",
       "4     108.862080                    Villanova     USA       1985           1   \n",
       "5      97.522280                     Illinois     USA       1981           2   \n",
       "6      86.182480                       Temple     USA       1994           1   \n",
       "7     113.398000                      Clemson     USA       1990           1   \n",
       "8      86.182480                   Washington     USA       1992   Undrafted   \n",
       "9      72.574720                      Memphis     USA       1991           2   \n",
       "\n",
       "   ...   pts   reb  ast  net_rating  oreb_pct  dreb_pct  usg_pct  ts_pct  \\\n",
       "0  ...   5.7  16.1  3.1        16.1     0.186     0.323    0.100   0.479   \n",
       "1  ...   2.3   1.5  0.3        12.3     0.078     0.151    0.175   0.430   \n",
       "2  ...   0.8   1.0  0.4        -2.1     0.105     0.102    0.103   0.376   \n",
       "3  ...   3.7   2.3  0.6        -8.7     0.060     0.149    0.167   0.399   \n",
       "4  ...   2.4   2.4  0.2       -11.2     0.109     0.179    0.127   0.611   \n",
       "5  ...   8.2   2.7  1.0         4.1     0.034     0.126    0.220   0.541   \n",
       "6  ...  17.2   4.1  3.4         4.1     0.035     0.091    0.209   0.559   \n",
       "7  ...  14.9   8.0  1.6         3.3     0.095     0.183    0.222   0.520   \n",
       "8  ...   5.7   1.6  1.3        -0.3     0.036     0.076    0.172   0.539   \n",
       "9  ...   6.9   1.5  3.0        -1.2     0.018     0.081    0.177   0.557   \n",
       "\n",
       "   ast_pct   season  \n",
       "0    0.113  1996-97  \n",
       "1    0.048  1996-97  \n",
       "2    0.148  1996-97  \n",
       "3    0.077  1996-97  \n",
       "4    0.040  1996-97  \n",
       "5    0.102  1996-97  \n",
       "6    0.149  1996-97  \n",
       "7    0.087  1996-97  \n",
       "8    0.141  1996-97  \n",
       "9    0.262  1996-97  \n",
       "\n",
       "[10 rows x 22 columns]"
      ]
     },
     "execution_count": 57,
     "metadata": {},
     "output_type": "execute_result"
    }
   ],
   "source": [
    "df = pd.read_csv(\"input/all_seasons.csv\")\n",
    "df.head(10)"
   ]
  },
  {
   "cell_type": "code",
   "execution_count": 58,
   "metadata": {},
   "outputs": [
    {
     "data": {
      "text/plain": [
       "array(['1996-97', '1997-98', '1998-99', '1999-00', '2000-01', '2001-02',\n",
       "       '2002-03', '2003-04', '2004-05', '2005-06', '2006-07', '2007-08',\n",
       "       '2008-09', '2009-10', '2010-11', '2011-12', '2012-13', '2013-14',\n",
       "       '2014-15', '2015-16', '2016-17', '2017-18', '2018-19', '2019-20'],\n",
       "      dtype=object)"
      ]
     },
     "execution_count": 58,
     "metadata": {},
     "output_type": "execute_result"
    }
   ],
   "source": [
    "df.season.unique()"
   ]
  },
  {
   "cell_type": "code",
   "execution_count": 59,
   "metadata": {},
   "outputs": [
    {
     "data": {
      "text/plain": [
       "(11145, 22)"
      ]
     },
     "execution_count": 59,
     "metadata": {},
     "output_type": "execute_result"
    }
   ],
   "source": [
    "df.shape"
   ]
  },
  {
   "cell_type": "code",
   "execution_count": 60,
   "metadata": {},
   "outputs": [
    {
     "data": {
      "text/plain": [
       "array(['2', '1', '3', 'Undrafted', '4', '8', '6', '7'], dtype=object)"
      ]
     },
     "execution_count": 60,
     "metadata": {},
     "output_type": "execute_result"
    }
   ],
   "source": [
    "df.draft_round.unique()"
   ]
  },
  {
   "cell_type": "code",
   "execution_count": 61,
   "metadata": {},
   "outputs": [
    {
     "data": {
      "text/plain": [
       "(514, 22)"
      ]
     },
     "execution_count": 61,
     "metadata": {},
     "output_type": "execute_result"
    }
   ],
   "source": [
    "df[df.season == '2019-20'].shape"
   ]
  },
  {
   "cell_type": "code",
   "execution_count": 62,
   "metadata": {},
   "outputs": [
    {
     "data": {
      "text/plain": [
       "Index(['Unnamed: 0', 'player_name', 'team_abbreviation', 'age',\n",
       "       'player_height', 'player_weight', 'college', 'country', 'draft_year',\n",
       "       'draft_round', 'draft_number', 'gp', 'pts', 'reb', 'ast', 'net_rating',\n",
       "       'oreb_pct', 'dreb_pct', 'usg_pct', 'ts_pct', 'ast_pct', 'season'],\n",
       "      dtype='object')"
      ]
     },
     "execution_count": 62,
     "metadata": {},
     "output_type": "execute_result"
    }
   ],
   "source": [
    "df.columns"
   ]
  },
  {
   "cell_type": "code",
   "execution_count": 93,
   "metadata": {},
   "outputs": [
    {
     "data": {
      "text/html": [
       "<div>\n",
       "<style scoped>\n",
       "    .dataframe tbody tr th:only-of-type {\n",
       "        vertical-align: middle;\n",
       "    }\n",
       "\n",
       "    .dataframe tbody tr th {\n",
       "        vertical-align: top;\n",
       "    }\n",
       "\n",
       "    .dataframe thead th {\n",
       "        text-align: right;\n",
       "    }\n",
       "</style>\n",
       "<table border=\"1\" class=\"dataframe\">\n",
       "  <thead>\n",
       "    <tr style=\"text-align: right;\">\n",
       "      <th></th>\n",
       "      <th>player_name</th>\n",
       "      <th>team_abbreviation</th>\n",
       "      <th>age</th>\n",
       "      <th>player_height</th>\n",
       "      <th>player_weight</th>\n",
       "      <th>country</th>\n",
       "      <th>gp</th>\n",
       "      <th>pts</th>\n",
       "      <th>reb</th>\n",
       "      <th>ast</th>\n",
       "      <th>ts_pct</th>\n",
       "      <th>season</th>\n",
       "    </tr>\n",
       "  </thead>\n",
       "  <tbody>\n",
       "    <tr>\n",
       "      <th>10631</th>\n",
       "      <td>Georges Niang</td>\n",
       "      <td>UTA</td>\n",
       "      <td>26.0</td>\n",
       "      <td>200.66</td>\n",
       "      <td>104.326160</td>\n",
       "      <td>USA</td>\n",
       "      <td>57</td>\n",
       "      <td>5.8</td>\n",
       "      <td>1.9</td>\n",
       "      <td>0.6</td>\n",
       "      <td>0.615</td>\n",
       "      <td>2019-20</td>\n",
       "    </tr>\n",
       "    <tr>\n",
       "      <th>10632</th>\n",
       "      <td>George Hill</td>\n",
       "      <td>MIL</td>\n",
       "      <td>33.0</td>\n",
       "      <td>190.50</td>\n",
       "      <td>85.275296</td>\n",
       "      <td>USA</td>\n",
       "      <td>51</td>\n",
       "      <td>9.7</td>\n",
       "      <td>3.0</td>\n",
       "      <td>2.9</td>\n",
       "      <td>0.675</td>\n",
       "      <td>2019-20</td>\n",
       "    </tr>\n",
       "    <tr>\n",
       "      <th>10633</th>\n",
       "      <td>Gary Trent Jr.</td>\n",
       "      <td>POR</td>\n",
       "      <td>21.0</td>\n",
       "      <td>195.58</td>\n",
       "      <td>94.800728</td>\n",
       "      <td>USA</td>\n",
       "      <td>52</td>\n",
       "      <td>7.8</td>\n",
       "      <td>1.7</td>\n",
       "      <td>0.9</td>\n",
       "      <td>0.563</td>\n",
       "      <td>2019-20</td>\n",
       "    </tr>\n",
       "    <tr>\n",
       "      <th>10634</th>\n",
       "      <td>Gary Payton II</td>\n",
       "      <td>WAS</td>\n",
       "      <td>27.0</td>\n",
       "      <td>190.50</td>\n",
       "      <td>88.450440</td>\n",
       "      <td>USA</td>\n",
       "      <td>27</td>\n",
       "      <td>4.2</td>\n",
       "      <td>2.9</td>\n",
       "      <td>1.7</td>\n",
       "      <td>0.473</td>\n",
       "      <td>2019-20</td>\n",
       "    </tr>\n",
       "    <tr>\n",
       "      <th>10635</th>\n",
       "      <td>Gary Harris</td>\n",
       "      <td>DEN</td>\n",
       "      <td>25.0</td>\n",
       "      <td>193.04</td>\n",
       "      <td>95.254320</td>\n",
       "      <td>USA</td>\n",
       "      <td>54</td>\n",
       "      <td>10.3</td>\n",
       "      <td>2.9</td>\n",
       "      <td>2.1</td>\n",
       "      <td>0.513</td>\n",
       "      <td>2019-20</td>\n",
       "    </tr>\n",
       "  </tbody>\n",
       "</table>\n",
       "</div>"
      ],
      "text/plain": [
       "          player_name team_abbreviation   age  player_height  player_weight  \\\n",
       "10631   Georges Niang               UTA  26.0         200.66     104.326160   \n",
       "10632     George Hill               MIL  33.0         190.50      85.275296   \n",
       "10633  Gary Trent Jr.               POR  21.0         195.58      94.800728   \n",
       "10634  Gary Payton II               WAS  27.0         190.50      88.450440   \n",
       "10635     Gary Harris               DEN  25.0         193.04      95.254320   \n",
       "\n",
       "      country  gp   pts  reb  ast  ts_pct   season  \n",
       "10631     USA  57   5.8  1.9  0.6   0.615  2019-20  \n",
       "10632     USA  51   9.7  3.0  2.9   0.675  2019-20  \n",
       "10633     USA  52   7.8  1.7  0.9   0.563  2019-20  \n",
       "10634     USA  27   4.2  2.9  1.7   0.473  2019-20  \n",
       "10635     USA  54  10.3  2.9  2.1   0.513  2019-20  "
      ]
     },
     "execution_count": 93,
     "metadata": {},
     "output_type": "execute_result"
    }
   ],
   "source": [
    "df3 = df.drop(['Unnamed: 0', 'college', 'draft_year', 'draft_round', 'net_rating', 'draft_number', 'usg_pct', 'ast_pct', 'oreb_pct', 'dreb_pct'], axis=1)\n",
    "df3 = df3[df3.season == '2019-20']\n",
    "df3.head()"
   ]
  },
  {
   "cell_type": "markdown",
   "metadata": {},
   "source": [
    "### Cuando ya tenemos el dataframe limpio, hacemos un merge con los datos de las requests a la API "
   ]
  },
  {
   "cell_type": "code",
   "execution_count": 127,
   "metadata": {},
   "outputs": [
    {
     "data": {
      "text/html": [
       "<div>\n",
       "<style scoped>\n",
       "    .dataframe tbody tr th:only-of-type {\n",
       "        vertical-align: middle;\n",
       "    }\n",
       "\n",
       "    .dataframe tbody tr th {\n",
       "        vertical-align: top;\n",
       "    }\n",
       "\n",
       "    .dataframe thead th {\n",
       "        text-align: right;\n",
       "    }\n",
       "</style>\n",
       "<table border=\"1\" class=\"dataframe\">\n",
       "  <thead>\n",
       "    <tr style=\"text-align: right;\">\n",
       "      <th></th>\n",
       "      <th>player_name</th>\n",
       "      <th>team_abbreviation</th>\n",
       "      <th>age</th>\n",
       "      <th>player_height</th>\n",
       "      <th>player_weight</th>\n",
       "      <th>country</th>\n",
       "      <th>gp</th>\n",
       "      <th>pts</th>\n",
       "      <th>reb</th>\n",
       "      <th>ast</th>\n",
       "      <th>ts_pct</th>\n",
       "      <th>season</th>\n",
       "      <th>blk</th>\n",
       "      <th>stl</th>\n",
       "    </tr>\n",
       "  </thead>\n",
       "  <tbody>\n",
       "    <tr>\n",
       "      <th>0</th>\n",
       "      <td>Georges Niang</td>\n",
       "      <td>UTA</td>\n",
       "      <td>26.0</td>\n",
       "      <td>200.66</td>\n",
       "      <td>104.326160</td>\n",
       "      <td>USA</td>\n",
       "      <td>57</td>\n",
       "      <td>5.8</td>\n",
       "      <td>1.9</td>\n",
       "      <td>0.6</td>\n",
       "      <td>0.615</td>\n",
       "      <td>2019-20</td>\n",
       "      <td>0.0</td>\n",
       "      <td>0.0</td>\n",
       "    </tr>\n",
       "    <tr>\n",
       "      <th>1</th>\n",
       "      <td>George Hill</td>\n",
       "      <td>MIL</td>\n",
       "      <td>33.0</td>\n",
       "      <td>190.50</td>\n",
       "      <td>85.275296</td>\n",
       "      <td>USA</td>\n",
       "      <td>51</td>\n",
       "      <td>9.7</td>\n",
       "      <td>3.0</td>\n",
       "      <td>2.9</td>\n",
       "      <td>0.675</td>\n",
       "      <td>2019-20</td>\n",
       "      <td>NaN</td>\n",
       "      <td>NaN</td>\n",
       "    </tr>\n",
       "    <tr>\n",
       "      <th>2</th>\n",
       "      <td>Gary Trent Jr.</td>\n",
       "      <td>POR</td>\n",
       "      <td>21.0</td>\n",
       "      <td>195.58</td>\n",
       "      <td>94.800728</td>\n",
       "      <td>USA</td>\n",
       "      <td>52</td>\n",
       "      <td>7.8</td>\n",
       "      <td>1.7</td>\n",
       "      <td>0.9</td>\n",
       "      <td>0.563</td>\n",
       "      <td>2019-20</td>\n",
       "      <td>0.0</td>\n",
       "      <td>0.0</td>\n",
       "    </tr>\n",
       "    <tr>\n",
       "      <th>3</th>\n",
       "      <td>Gary Payton II</td>\n",
       "      <td>WAS</td>\n",
       "      <td>27.0</td>\n",
       "      <td>190.50</td>\n",
       "      <td>88.450440</td>\n",
       "      <td>USA</td>\n",
       "      <td>27</td>\n",
       "      <td>4.2</td>\n",
       "      <td>2.9</td>\n",
       "      <td>1.7</td>\n",
       "      <td>0.473</td>\n",
       "      <td>2019-20</td>\n",
       "      <td>NaN</td>\n",
       "      <td>NaN</td>\n",
       "    </tr>\n",
       "    <tr>\n",
       "      <th>4</th>\n",
       "      <td>Gary Harris</td>\n",
       "      <td>DEN</td>\n",
       "      <td>25.0</td>\n",
       "      <td>193.04</td>\n",
       "      <td>95.254320</td>\n",
       "      <td>USA</td>\n",
       "      <td>54</td>\n",
       "      <td>10.3</td>\n",
       "      <td>2.9</td>\n",
       "      <td>2.1</td>\n",
       "      <td>0.513</td>\n",
       "      <td>2019-20</td>\n",
       "      <td>0.0</td>\n",
       "      <td>2.0</td>\n",
       "    </tr>\n",
       "  </tbody>\n",
       "</table>\n",
       "</div>"
      ],
      "text/plain": [
       "      player_name team_abbreviation   age  player_height  player_weight  \\\n",
       "0   Georges Niang               UTA  26.0         200.66     104.326160   \n",
       "1     George Hill               MIL  33.0         190.50      85.275296   \n",
       "2  Gary Trent Jr.               POR  21.0         195.58      94.800728   \n",
       "3  Gary Payton II               WAS  27.0         190.50      88.450440   \n",
       "4     Gary Harris               DEN  25.0         193.04      95.254320   \n",
       "\n",
       "  country  gp   pts  reb  ast  ts_pct   season  blk  stl  \n",
       "0     USA  57   5.8  1.9  0.6   0.615  2019-20  0.0  0.0  \n",
       "1     USA  51   9.7  3.0  2.9   0.675  2019-20  NaN  NaN  \n",
       "2     USA  52   7.8  1.7  0.9   0.563  2019-20  0.0  0.0  \n",
       "3     USA  27   4.2  2.9  1.7   0.473  2019-20  NaN  NaN  \n",
       "4     USA  54  10.3  2.9  2.1   0.513  2019-20  0.0  2.0  "
      ]
     },
     "execution_count": 127,
     "metadata": {},
     "output_type": "execute_result"
    }
   ],
   "source": [
    "df4 = pd.merge(df3, df_req, left_on='player_name', right_on='player', how=\"left\")\n",
    "df4.head()"
   ]
  },
  {
   "cell_type": "code",
   "execution_count": 128,
   "metadata": {},
   "outputs": [
    {
     "data": {
      "text/plain": [
       "0.0    64\n",
       "1.0    23\n",
       "2.0     8\n",
       "4.0     2\n",
       "5.0     1\n",
       "3.0     1\n",
       "Name: stl, dtype: int64"
      ]
     },
     "execution_count": 128,
     "metadata": {},
     "output_type": "execute_result"
    }
   ],
   "source": [
    "df4.stl.value_counts()"
   ]
  },
  {
   "cell_type": "code",
   "execution_count": 129,
   "metadata": {},
   "outputs": [],
   "source": [
    "df4[\"stl\"] = df4.stl.fillna(0.0)\n",
    "df4[\"blk\"] = df4.blk.fillna(0.0)"
   ]
  },
  {
   "cell_type": "code",
   "execution_count": 130,
   "metadata": {},
   "outputs": [
    {
     "data": {
      "text/plain": [
       "player_name          0\n",
       "team_abbreviation    0\n",
       "age                  0\n",
       "player_height        0\n",
       "player_weight        0\n",
       "country              0\n",
       "gp                   0\n",
       "pts                  0\n",
       "reb                  0\n",
       "ast                  0\n",
       "ts_pct               0\n",
       "season               0\n",
       "blk                  0\n",
       "stl                  0\n",
       "dtype: int64"
      ]
     },
     "execution_count": 130,
     "metadata": {},
     "output_type": "execute_result"
    }
   ],
   "source": [
    "df4.isnull().sum()"
   ]
  },
  {
   "cell_type": "code",
   "execution_count": 131,
   "metadata": {},
   "outputs": [
    {
     "data": {
      "text/plain": [
       "(514, 14)"
      ]
     },
     "execution_count": 131,
     "metadata": {},
     "output_type": "execute_result"
    }
   ],
   "source": [
    "df4.shape"
   ]
  },
  {
   "cell_type": "code",
   "execution_count": 132,
   "metadata": {},
   "outputs": [
    {
     "data": {
      "text/plain": [
       "Index(['player_name', 'team_abbreviation', 'age', 'player_height',\n",
       "       'player_weight', 'country', 'gp', 'pts', 'reb', 'ast', 'ts_pct',\n",
       "       'season', 'blk', 'stl'],\n",
       "      dtype='object')"
      ]
     },
     "execution_count": 132,
     "metadata": {},
     "output_type": "execute_result"
    }
   ],
   "source": [
    "df4.columns"
   ]
  },
  {
   "cell_type": "markdown",
   "metadata": {},
   "source": [
    "## Organizamos las columnas y las renombramos"
   ]
  },
  {
   "cell_type": "code",
   "execution_count": 133,
   "metadata": {},
   "outputs": [],
   "source": [
    "df5 = df4[['player_name', 'team_abbreviation', 'age','player_height', 'player_weight', 'country', 'gp', 'pts', 'reb', 'ast', 'blk', 'stl', 'ts_pct', 'season']]\n",
    "df5.columns = ['nombre', 'iniciales_equipo', 'edad', 'altura_cm', 'peso_kg', 'pais', 'part_jug', 'pts', 'reb', 'ast', 'blk', 'stl', 'pct_tiro', 'temporada']"
   ]
  },
  {
   "cell_type": "code",
   "execution_count": 134,
   "metadata": {},
   "outputs": [
    {
     "data": {
      "text/html": [
       "<div>\n",
       "<style scoped>\n",
       "    .dataframe tbody tr th:only-of-type {\n",
       "        vertical-align: middle;\n",
       "    }\n",
       "\n",
       "    .dataframe tbody tr th {\n",
       "        vertical-align: top;\n",
       "    }\n",
       "\n",
       "    .dataframe thead th {\n",
       "        text-align: right;\n",
       "    }\n",
       "</style>\n",
       "<table border=\"1\" class=\"dataframe\">\n",
       "  <thead>\n",
       "    <tr style=\"text-align: right;\">\n",
       "      <th></th>\n",
       "      <th>nombre</th>\n",
       "      <th>iniciales_equipo</th>\n",
       "      <th>edad</th>\n",
       "      <th>altura_cm</th>\n",
       "      <th>peso_kg</th>\n",
       "      <th>pais</th>\n",
       "      <th>part_jug</th>\n",
       "      <th>pts</th>\n",
       "      <th>reb</th>\n",
       "      <th>ast</th>\n",
       "      <th>blk</th>\n",
       "      <th>stl</th>\n",
       "      <th>pct_tiro</th>\n",
       "      <th>temporada</th>\n",
       "    </tr>\n",
       "  </thead>\n",
       "  <tbody>\n",
       "    <tr>\n",
       "      <th>0</th>\n",
       "      <td>Georges Niang</td>\n",
       "      <td>UTA</td>\n",
       "      <td>26.0</td>\n",
       "      <td>200.66</td>\n",
       "      <td>104.326160</td>\n",
       "      <td>USA</td>\n",
       "      <td>57</td>\n",
       "      <td>5.8</td>\n",
       "      <td>1.9</td>\n",
       "      <td>0.6</td>\n",
       "      <td>0.0</td>\n",
       "      <td>0.0</td>\n",
       "      <td>0.615</td>\n",
       "      <td>2019-20</td>\n",
       "    </tr>\n",
       "    <tr>\n",
       "      <th>1</th>\n",
       "      <td>George Hill</td>\n",
       "      <td>MIL</td>\n",
       "      <td>33.0</td>\n",
       "      <td>190.50</td>\n",
       "      <td>85.275296</td>\n",
       "      <td>USA</td>\n",
       "      <td>51</td>\n",
       "      <td>9.7</td>\n",
       "      <td>3.0</td>\n",
       "      <td>2.9</td>\n",
       "      <td>0.0</td>\n",
       "      <td>0.0</td>\n",
       "      <td>0.675</td>\n",
       "      <td>2019-20</td>\n",
       "    </tr>\n",
       "    <tr>\n",
       "      <th>2</th>\n",
       "      <td>Gary Trent Jr.</td>\n",
       "      <td>POR</td>\n",
       "      <td>21.0</td>\n",
       "      <td>195.58</td>\n",
       "      <td>94.800728</td>\n",
       "      <td>USA</td>\n",
       "      <td>52</td>\n",
       "      <td>7.8</td>\n",
       "      <td>1.7</td>\n",
       "      <td>0.9</td>\n",
       "      <td>0.0</td>\n",
       "      <td>0.0</td>\n",
       "      <td>0.563</td>\n",
       "      <td>2019-20</td>\n",
       "    </tr>\n",
       "    <tr>\n",
       "      <th>3</th>\n",
       "      <td>Gary Payton II</td>\n",
       "      <td>WAS</td>\n",
       "      <td>27.0</td>\n",
       "      <td>190.50</td>\n",
       "      <td>88.450440</td>\n",
       "      <td>USA</td>\n",
       "      <td>27</td>\n",
       "      <td>4.2</td>\n",
       "      <td>2.9</td>\n",
       "      <td>1.7</td>\n",
       "      <td>0.0</td>\n",
       "      <td>0.0</td>\n",
       "      <td>0.473</td>\n",
       "      <td>2019-20</td>\n",
       "    </tr>\n",
       "    <tr>\n",
       "      <th>4</th>\n",
       "      <td>Gary Harris</td>\n",
       "      <td>DEN</td>\n",
       "      <td>25.0</td>\n",
       "      <td>193.04</td>\n",
       "      <td>95.254320</td>\n",
       "      <td>USA</td>\n",
       "      <td>54</td>\n",
       "      <td>10.3</td>\n",
       "      <td>2.9</td>\n",
       "      <td>2.1</td>\n",
       "      <td>0.0</td>\n",
       "      <td>2.0</td>\n",
       "      <td>0.513</td>\n",
       "      <td>2019-20</td>\n",
       "    </tr>\n",
       "  </tbody>\n",
       "</table>\n",
       "</div>"
      ],
      "text/plain": [
       "           nombre iniciales_equipo  edad  altura_cm     peso_kg pais  \\\n",
       "0   Georges Niang              UTA  26.0     200.66  104.326160  USA   \n",
       "1     George Hill              MIL  33.0     190.50   85.275296  USA   \n",
       "2  Gary Trent Jr.              POR  21.0     195.58   94.800728  USA   \n",
       "3  Gary Payton II              WAS  27.0     190.50   88.450440  USA   \n",
       "4     Gary Harris              DEN  25.0     193.04   95.254320  USA   \n",
       "\n",
       "   part_jug   pts  reb  ast  blk  stl  pct_tiro temporada  \n",
       "0        57   5.8  1.9  0.6  0.0  0.0     0.615   2019-20  \n",
       "1        51   9.7  3.0  2.9  0.0  0.0     0.675   2019-20  \n",
       "2        52   7.8  1.7  0.9  0.0  0.0     0.563   2019-20  \n",
       "3        27   4.2  2.9  1.7  0.0  0.0     0.473   2019-20  \n",
       "4        54  10.3  2.9  2.1  0.0  2.0     0.513   2019-20  "
      ]
     },
     "execution_count": 134,
     "metadata": {},
     "output_type": "execute_result"
    }
   ],
   "source": [
    "df5.head()"
   ]
  },
  {
   "cell_type": "markdown",
   "metadata": {},
   "source": [
    "## Exportamos el dataframe definitivo en csv"
   ]
  },
  {
   "cell_type": "code",
   "execution_count": 136,
   "metadata": {},
   "outputs": [],
   "source": [
    "df5.to_csv(\"output/csv_definitivo.csv\", index = False)"
   ]
  },
  {
   "cell_type": "code",
   "execution_count": null,
   "metadata": {},
   "outputs": [],
   "source": []
  }
 ],
 "metadata": {
  "kernelspec": {
   "display_name": "Python 3",
   "language": "python",
   "name": "python3"
  },
  "language_info": {
   "codemirror_mode": {
    "name": "ipython",
    "version": 3
   },
   "file_extension": ".py",
   "mimetype": "text/x-python",
   "name": "python",
   "nbconvert_exporter": "python",
   "pygments_lexer": "ipython3",
   "version": "3.7.6"
  }
 },
 "nbformat": 4,
 "nbformat_minor": 4
}
